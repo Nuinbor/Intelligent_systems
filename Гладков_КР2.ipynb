{
 "cells": [
  {
   "cell_type": "markdown",
   "id": "843acbdd",
   "metadata": {},
   "source": [
    "# Import Dependencies and create functions"
   ]
  },
  {
   "cell_type": "code",
   "execution_count": 4,
   "id": "178b1ccf",
   "metadata": {},
   "outputs": [],
   "source": [
    "import os\n",
    "import catboost\n",
    "\n",
    "import pandas as pd\n",
    "import numpy as np\n",
    "import seaborn as sns\n",
    "\n",
    "import matplotlib.pyplot as plt\n",
    "from matplotlib.colors import ListedColormap\n",
    "\n",
    "from sklearn.model_selection import train_test_split\n",
    "from sklearn.preprocessing import MinMaxScaler\n",
    "\n",
    "from sklearn.metrics import confusion_matrix, mean_squared_error, silhouette_score, adjusted_rand_score\n",
    "\n",
    "from sklearn.tree import DecisionTreeClassifier\n",
    "from sklearn.ensemble import RandomForestClassifier\n",
    "from sklearn.cluster import AgglomerativeClustering, KMeans\n",
    "\n",
    "import scipy.cluster.hierarchy as sch\n",
    "from catboost import CatBoostClassifier"
   ]
  },
  {
   "cell_type": "code",
   "execution_count": 82,
   "id": "c2c869e4",
   "metadata": {},
   "outputs": [],
   "source": [
    "def max_leaf_nodes(X_train, X_test, y_train, y_test, n):\n",
    "    mse_train = []\n",
    "    mse_test = []\n",
    "    for i in n:\n",
    "        ct = DecisionTreeClassifier(max_leaf_nodes = i, random_state=10).fit(X_train, y_train)\n",
    "        mse_train.append(mean_squared_error(y_train, ct.predict(X_train)))\n",
    "        mse_test.append(mean_squared_error(y_test, ct.predict(X_test)))\n",
    "    \n",
    "    fig, ax = plt.subplots(figsize=(8, 4))\n",
    "    ax.plot(n, mse_train, alpha=0.5, color='blue', label='train')\n",
    "    ax.plot(n, mse_test, alpha=0.5, color='red', label='test')\n",
    "    ax.set_ylabel(\"MSE\")\n",
    "    ax.set_xlabel(\"max_leaf_nodes\")\n",
    "\n",
    "    \n",
    "def rf_best_n_estimator(X_train, X_test, y_train, y_test, n):\n",
    "    mse_train = []\n",
    "    mse_test = []\n",
    "    for i in n:\n",
    "        rf = RandomForestClassifier(n_estimators=i, random_state=10).fit(X_train, y_train)\n",
    "        mse_train.append(mean_squared_error(y_train, rf.predict(X_train)))\n",
    "        mse_test.append(mean_squared_error(y_test, rf.predict(X_test)))\n",
    "    \n",
    "    fig, ax = plt.subplots(figsize=(8, 4))\n",
    "    ax.plot(n, mse_train, alpha=0.5, color='blue', label='train')\n",
    "    ax.plot(n, mse_test, alpha=0.5, color='red', label='test')\n",
    "    ax.set_ylabel(\"MSE\")\n",
    "    ax.set_xlabel(\"N_estimators\")\n",
    "    \n",
    "def rf_max_leaf_nodes(X_train, X_test, y_train, y_test, n):\n",
    "    mse_train = []\n",
    "    mse_test = []\n",
    "    for i in n:\n",
    "        rf = RandomForestClassifier(n_estimators=5, max_leaf_nodes =i, random_state=10).fit(X_train, y_train)\n",
    "        mse_train.append(mean_squared_error(y_train, rf.predict(X_train)))\n",
    "        mse_test.append(mean_squared_error(y_test, rf.predict(X_test)))\n",
    "    \n",
    "    fig, ax = plt.subplots(figsize=(8, 4))\n",
    "    ax.plot(n, mse_train, alpha=0.5, color='blue', label='train')\n",
    "    ax.plot(n, mse_test, alpha=0.5, color='red', label='test')\n",
    "    ax.set_ylabel(\"MSE\")\n",
    "    ax.set_xlabel(\"max_leaf_nodes\")\n",
    "\n",
    "def catboost_best_iterations(X_train, X_test, y_train, y_test, n):\n",
    "    mse_train = []\n",
    "    mse_test = []\n",
    "    for i in n:\n",
    "        catboost = CatBoostClassifier(iterations=i,random_state=10).fit(X_train, y_train,eval_set=(X_test, y_test),logging_level='Silent')\n",
    "        mse_train.append(mean_squared_error(y_train, catboost.predict(X_train)))\n",
    "        mse_test.append(mean_squared_error(y_test, catboost.predict(X_test)))\n",
    "    fig, ax = plt.subplots(figsize=(8, 4))\n",
    "    ax.plot(n, mse_train, alpha=0.5, color='blue', label='train')\n",
    "    ax.plot(n, mse_test, alpha=0.5, color='red', label='test')\n",
    "    ax.set_ylabel('\"MSE')\n",
    "    ax.set_xlabel('Iterations')\n",
    "    ax.legend(framealpha=1, frameon=True)   "
   ]
  },
  {
   "cell_type": "markdown",
   "id": "d007fdf6",
   "metadata": {},
   "source": [
    "# Read dataset"
   ]
  },
  {
   "cell_type": "code",
   "execution_count": 83,
   "id": "230bce0e",
   "metadata": {},
   "outputs": [
    {
     "data": {
      "text/html": [
       "<div>\n",
       "<style scoped>\n",
       "    .dataframe tbody tr th:only-of-type {\n",
       "        vertical-align: middle;\n",
       "    }\n",
       "\n",
       "    .dataframe tbody tr th {\n",
       "        vertical-align: top;\n",
       "    }\n",
       "\n",
       "    .dataframe thead th {\n",
       "        text-align: right;\n",
       "    }\n",
       "</style>\n",
       "<table border=\"1\" class=\"dataframe\">\n",
       "  <thead>\n",
       "    <tr style=\"text-align: right;\">\n",
       "      <th></th>\n",
       "      <th>Успех</th>\n",
       "      <th>Торговельна площа, кв. м.</th>\n",
       "      <th>Этаж</th>\n",
       "      <th>Количество касс</th>\n",
       "      <th>Тип</th>\n",
       "      <th>Рейтинг в гуглі</th>\n",
       "      <th>Количество чеков</th>\n",
       "      <th>Средний чек</th>\n",
       "      <th>Населення</th>\n",
       "      <th>Середній дохід населення</th>\n",
       "      <th>Спеціалізоване м'ясо</th>\n",
       "      <th>Спеціалізований сир</th>\n",
       "      <th>Спеціалізована поб. Хімія</th>\n",
       "      <th>Супермаркет</th>\n",
       "      <th>Магазин біля дому</th>\n",
       "    </tr>\n",
       "  </thead>\n",
       "  <tbody>\n",
       "    <tr>\n",
       "      <th>0</th>\n",
       "      <td>не успішний</td>\n",
       "      <td>9.0</td>\n",
       "      <td>1</td>\n",
       "      <td>1</td>\n",
       "      <td>старий</td>\n",
       "      <td>3.0</td>\n",
       "      <td>659.0</td>\n",
       "      <td>76.85</td>\n",
       "      <td>108.0</td>\n",
       "      <td>14910.0</td>\n",
       "      <td>1</td>\n",
       "      <td>1</td>\n",
       "      <td>0</td>\n",
       "      <td>1</td>\n",
       "      <td>1</td>\n",
       "    </tr>\n",
       "    <tr>\n",
       "      <th>1</th>\n",
       "      <td>не успішний</td>\n",
       "      <td>22.0</td>\n",
       "      <td>1</td>\n",
       "      <td>1</td>\n",
       "      <td>старий</td>\n",
       "      <td>4.1</td>\n",
       "      <td>1518.0</td>\n",
       "      <td>84.86</td>\n",
       "      <td>750.0</td>\n",
       "      <td>9030.0</td>\n",
       "      <td>0</td>\n",
       "      <td>0</td>\n",
       "      <td>0</td>\n",
       "      <td>1</td>\n",
       "      <td>1</td>\n",
       "    </tr>\n",
       "    <tr>\n",
       "      <th>2</th>\n",
       "      <td>не успішний</td>\n",
       "      <td>13.0</td>\n",
       "      <td>1</td>\n",
       "      <td>1</td>\n",
       "      <td>старий</td>\n",
       "      <td>3.0</td>\n",
       "      <td>476.0</td>\n",
       "      <td>112.02</td>\n",
       "      <td>0.0</td>\n",
       "      <td>9030.0</td>\n",
       "      <td>0</td>\n",
       "      <td>0</td>\n",
       "      <td>0</td>\n",
       "      <td>0</td>\n",
       "      <td>0</td>\n",
       "    </tr>\n",
       "    <tr>\n",
       "      <th>3</th>\n",
       "      <td>не успішний</td>\n",
       "      <td>18.0</td>\n",
       "      <td>1</td>\n",
       "      <td>1</td>\n",
       "      <td>старий</td>\n",
       "      <td>3.0</td>\n",
       "      <td>1310.0</td>\n",
       "      <td>119.80</td>\n",
       "      <td>0.0</td>\n",
       "      <td>13930.0</td>\n",
       "      <td>1</td>\n",
       "      <td>0</td>\n",
       "      <td>0</td>\n",
       "      <td>1</td>\n",
       "      <td>1</td>\n",
       "    </tr>\n",
       "    <tr>\n",
       "      <th>4</th>\n",
       "      <td>не успішний</td>\n",
       "      <td>25.0</td>\n",
       "      <td>1</td>\n",
       "      <td>1</td>\n",
       "      <td>новий</td>\n",
       "      <td>4.0</td>\n",
       "      <td>2029.0</td>\n",
       "      <td>94.88</td>\n",
       "      <td>0.0</td>\n",
       "      <td>14560.0</td>\n",
       "      <td>0</td>\n",
       "      <td>0</td>\n",
       "      <td>0</td>\n",
       "      <td>0</td>\n",
       "      <td>0</td>\n",
       "    </tr>\n",
       "  </tbody>\n",
       "</table>\n",
       "</div>"
      ],
      "text/plain": [
       "         Успех  Торговельна площа, кв. м.  Этаж  Количество касс     Тип  \\\n",
       "0  не успішний                        9.0     1                1  старий   \n",
       "1  не успішний                       22.0     1                1  старий   \n",
       "2  не успішний                       13.0     1                1  старий   \n",
       "3  не успішний                       18.0     1                1  старий   \n",
       "4  не успішний                       25.0     1                1   новий   \n",
       "\n",
       "   Рейтинг в гуглі  Количество чеков  Средний чек  Населення  \\\n",
       "0              3.0             659.0        76.85      108.0   \n",
       "1              4.1            1518.0        84.86      750.0   \n",
       "2              3.0             476.0       112.02        0.0   \n",
       "3              3.0            1310.0       119.80        0.0   \n",
       "4              4.0            2029.0        94.88        0.0   \n",
       "\n",
       "   Середній дохід населення  Спеціалізоване м'ясо  Спеціалізований сир  \\\n",
       "0                   14910.0                     1                    1   \n",
       "1                    9030.0                     0                    0   \n",
       "2                    9030.0                     0                    0   \n",
       "3                   13930.0                     1                    0   \n",
       "4                   14560.0                     0                    0   \n",
       "\n",
       "   Спеціалізована поб. Хімія  Супермаркет  Магазин біля дому  \n",
       "0                          0            1                  1  \n",
       "1                          0            1                  1  \n",
       "2                          0            0                  0  \n",
       "3                          0            1                  1  \n",
       "4                          0            0                  0  "
      ]
     },
     "execution_count": 83,
     "metadata": {},
     "output_type": "execute_result"
    }
   ],
   "source": [
    "df = pd.read_excel(\"var4.xlsx\", engine='openpyxl')\n",
    "df.head()"
   ]
  },
  {
   "cell_type": "markdown",
   "id": "a0eda5e9",
   "metadata": {},
   "source": [
    "# Analysing Data"
   ]
  },
  {
   "cell_type": "code",
   "execution_count": 84,
   "id": "95d843e7",
   "metadata": {},
   "outputs": [
    {
     "name": "stdout",
     "output_type": "stream",
     "text": [
      "<class 'pandas.core.frame.DataFrame'>\n",
      "RangeIndex: 69 entries, 0 to 68\n",
      "Data columns (total 15 columns):\n",
      " #   Column                     Non-Null Count  Dtype  \n",
      "---  ------                     --------------  -----  \n",
      " 0   Успех                      69 non-null     object \n",
      " 1   Торговельна площа, кв. м.  69 non-null     float64\n",
      " 2   Этаж                       69 non-null     int64  \n",
      " 3   Количество касс            69 non-null     int64  \n",
      " 4   Тип                        69 non-null     object \n",
      " 5   Рейтинг в гуглі            69 non-null     float64\n",
      " 6   Количество чеков           62 non-null     float64\n",
      " 7   Средний чек                62 non-null     float64\n",
      " 8   Населення                  64 non-null     float64\n",
      " 9   Середній дохід населення   64 non-null     float64\n",
      " 10  Спеціалізоване м'ясо       69 non-null     int64  \n",
      " 11  Спеціалізований сир        69 non-null     int64  \n",
      " 12  Спеціалізована поб. Хімія  69 non-null     int64  \n",
      " 13  Супермаркет                69 non-null     int64  \n",
      " 14  Магазин біля дому          69 non-null     int64  \n",
      "dtypes: float64(6), int64(7), object(2)\n",
      "memory usage: 8.2+ KB\n"
     ]
    }
   ],
   "source": [
    "df.info()"
   ]
  },
  {
   "cell_type": "markdown",
   "id": "04d48b1d",
   "metadata": {},
   "source": [
    "## Null values"
   ]
  },
  {
   "cell_type": "code",
   "execution_count": 85,
   "id": "effc321c",
   "metadata": {},
   "outputs": [
    {
     "data": {
      "image/png": "[encoded data removed]",
      "text/plain": [
       "<Figure size 432x288 with 1 Axes>"
      ]
     },
     "metadata": {
      "needs_background": "light"
     },
     "output_type": "display_data"
    }
   ],
   "source": [
    "fig = plt.figure()\n",
    "ax = fig.add_axes([0, 0, 0.5, 0.5])\n",
    "missings = pd.DataFrame(df.isnull().sum())\n",
    "vars_with_missings = missings[missings > 1].dropna().index.tolist()\n",
    "sns.heatmap(df[vars_with_missings].isnull(),\n",
    "            cbar=False, yticklabels=False, cmap='inferno', ax=ax)\n",
    "plt.show()"
   ]
  },
  {
   "cell_type": "markdown",
   "id": "8dae44bb",
   "metadata": {},
   "source": [
    "Так как недостающих значений не много можем заменить их средним."
   ]
  },
  {
   "cell_type": "code",
   "execution_count": 86,
   "id": "1ce6bf11",
   "metadata": {},
   "outputs": [
    {
     "data": {
      "text/plain": [
       "Успех                        0\n",
       "Торговельна площа, кв. м.    0\n",
       "Этаж                         0\n",
       "Количество касс              0\n",
       "Тип                          0\n",
       "Рейтинг в гуглі              0\n",
       "Количество чеков             0\n",
       "Средний чек                  0\n",
       "Населення                    0\n",
       "Середній дохід населення     0\n",
       "Спеціалізоване м'ясо         0\n",
       "Спеціалізований сир          0\n",
       "Спеціалізована поб. Хімія    0\n",
       "Супермаркет                  0\n",
       "Магазин біля дому            0\n",
       "dtype: int64"
      ]
     },
     "execution_count": 86,
     "metadata": {},
     "output_type": "execute_result"
    }
   ],
   "source": [
    "df['Количество чеков'] = df['Количество чеков'].fillna(df['Количество чеков'].mean())\n",
    "df['Средний чек'] = df['Средний чек'].fillna(df['Средний чек'].mean())\n",
    "df['Населення'] = df['Населення'].fillna(df['Населення'].mean())\n",
    "df['Середній дохід населення'] = df['Середній дохід населення'].fillna(df['Середній дохід населення'].mean())\n",
    "df.isnull().sum()"
   ]
  },
  {
   "cell_type": "markdown",
   "id": "2098a096",
   "metadata": {},
   "source": [
    "Мы можем использовать все данные, пропущенных значений не много."
   ]
  },
  {
   "cell_type": "markdown",
   "id": "eab37204",
   "metadata": {},
   "source": [
    "## Encoding"
   ]
  },
  {
   "cell_type": "code",
   "execution_count": 87,
   "id": "c83595f3",
   "metadata": {},
   "outputs": [
    {
     "data": {
      "text/plain": [
       "не успішний    44\n",
       "успішний       25\n",
       "Name: Успех, dtype: int64"
      ]
     },
     "execution_count": 87,
     "metadata": {},
     "output_type": "execute_result"
    }
   ],
   "source": [
    "df.Успех.value_counts()"
   ]
  },
  {
   "cell_type": "code",
   "execution_count": 88,
   "id": "93c80f8f",
   "metadata": {},
   "outputs": [
    {
     "data": {
      "text/plain": [
       "новий     47\n",
       "старий    21\n",
       "cтарий     1\n",
       "Name: Тип, dtype: int64"
      ]
     },
     "execution_count": 88,
     "metadata": {},
     "output_type": "execute_result"
    }
   ],
   "source": [
    "df.Тип.value_counts()"
   ]
  },
  {
   "cell_type": "code",
   "execution_count": 89,
   "id": "80ee216e",
   "metadata": {},
   "outputs": [
    {
     "data": {
      "text/html": [
       "<div>\n",
       "<style scoped>\n",
       "    .dataframe tbody tr th:only-of-type {\n",
       "        vertical-align: middle;\n",
       "    }\n",
       "\n",
       "    .dataframe tbody tr th {\n",
       "        vertical-align: top;\n",
       "    }\n",
       "\n",
       "    .dataframe thead th {\n",
       "        text-align: right;\n",
       "    }\n",
       "</style>\n",
       "<table border=\"1\" class=\"dataframe\">\n",
       "  <thead>\n",
       "    <tr style=\"text-align: right;\">\n",
       "      <th></th>\n",
       "      <th>Успех</th>\n",
       "      <th>Торговельна площа, кв. м.</th>\n",
       "      <th>Этаж</th>\n",
       "      <th>Количество касс</th>\n",
       "      <th>Тип</th>\n",
       "      <th>Рейтинг в гуглі</th>\n",
       "      <th>Количество чеков</th>\n",
       "      <th>Средний чек</th>\n",
       "      <th>Населення</th>\n",
       "      <th>Середній дохід населення</th>\n",
       "      <th>Спеціалізоване м'ясо</th>\n",
       "      <th>Спеціалізований сир</th>\n",
       "      <th>Спеціалізована поб. Хімія</th>\n",
       "      <th>Супермаркет</th>\n",
       "      <th>Магазин біля дому</th>\n",
       "    </tr>\n",
       "  </thead>\n",
       "  <tbody>\n",
       "    <tr>\n",
       "      <th>0</th>\n",
       "      <td>не успішний</td>\n",
       "      <td>9.00</td>\n",
       "      <td>1</td>\n",
       "      <td>1</td>\n",
       "      <td>1</td>\n",
       "      <td>3.0</td>\n",
       "      <td>659.0</td>\n",
       "      <td>76.85</td>\n",
       "      <td>108.0</td>\n",
       "      <td>14910.0</td>\n",
       "      <td>1</td>\n",
       "      <td>1</td>\n",
       "      <td>0</td>\n",
       "      <td>1</td>\n",
       "      <td>1</td>\n",
       "    </tr>\n",
       "    <tr>\n",
       "      <th>1</th>\n",
       "      <td>не успішний</td>\n",
       "      <td>22.00</td>\n",
       "      <td>1</td>\n",
       "      <td>1</td>\n",
       "      <td>1</td>\n",
       "      <td>4.1</td>\n",
       "      <td>1518.0</td>\n",
       "      <td>84.86</td>\n",
       "      <td>750.0</td>\n",
       "      <td>9030.0</td>\n",
       "      <td>0</td>\n",
       "      <td>0</td>\n",
       "      <td>0</td>\n",
       "      <td>1</td>\n",
       "      <td>1</td>\n",
       "    </tr>\n",
       "    <tr>\n",
       "      <th>2</th>\n",
       "      <td>не успішний</td>\n",
       "      <td>13.00</td>\n",
       "      <td>1</td>\n",
       "      <td>1</td>\n",
       "      <td>1</td>\n",
       "      <td>3.0</td>\n",
       "      <td>476.0</td>\n",
       "      <td>112.02</td>\n",
       "      <td>0.0</td>\n",
       "      <td>9030.0</td>\n",
       "      <td>0</td>\n",
       "      <td>0</td>\n",
       "      <td>0</td>\n",
       "      <td>0</td>\n",
       "      <td>0</td>\n",
       "    </tr>\n",
       "    <tr>\n",
       "      <th>3</th>\n",
       "      <td>не успішний</td>\n",
       "      <td>18.00</td>\n",
       "      <td>1</td>\n",
       "      <td>1</td>\n",
       "      <td>1</td>\n",
       "      <td>3.0</td>\n",
       "      <td>1310.0</td>\n",
       "      <td>119.80</td>\n",
       "      <td>0.0</td>\n",
       "      <td>13930.0</td>\n",
       "      <td>1</td>\n",
       "      <td>0</td>\n",
       "      <td>0</td>\n",
       "      <td>1</td>\n",
       "      <td>1</td>\n",
       "    </tr>\n",
       "    <tr>\n",
       "      <th>4</th>\n",
       "      <td>не успішний</td>\n",
       "      <td>25.00</td>\n",
       "      <td>1</td>\n",
       "      <td>1</td>\n",
       "      <td>0</td>\n",
       "      <td>4.0</td>\n",
       "      <td>2029.0</td>\n",
       "      <td>94.88</td>\n",
       "      <td>0.0</td>\n",
       "      <td>14560.0</td>\n",
       "      <td>0</td>\n",
       "      <td>0</td>\n",
       "      <td>0</td>\n",
       "      <td>0</td>\n",
       "      <td>0</td>\n",
       "    </tr>\n",
       "    <tr>\n",
       "      <th>...</th>\n",
       "      <td>...</td>\n",
       "      <td>...</td>\n",
       "      <td>...</td>\n",
       "      <td>...</td>\n",
       "      <td>...</td>\n",
       "      <td>...</td>\n",
       "      <td>...</td>\n",
       "      <td>...</td>\n",
       "      <td>...</td>\n",
       "      <td>...</td>\n",
       "      <td>...</td>\n",
       "      <td>...</td>\n",
       "      <td>...</td>\n",
       "      <td>...</td>\n",
       "      <td>...</td>\n",
       "    </tr>\n",
       "    <tr>\n",
       "      <th>64</th>\n",
       "      <td>успішний</td>\n",
       "      <td>40.78</td>\n",
       "      <td>1</td>\n",
       "      <td>2</td>\n",
       "      <td>0</td>\n",
       "      <td>4.0</td>\n",
       "      <td>6884.0</td>\n",
       "      <td>107.37</td>\n",
       "      <td>963.0</td>\n",
       "      <td>9800.0</td>\n",
       "      <td>0</td>\n",
       "      <td>0</td>\n",
       "      <td>1</td>\n",
       "      <td>0</td>\n",
       "      <td>0</td>\n",
       "    </tr>\n",
       "    <tr>\n",
       "      <th>65</th>\n",
       "      <td>успішний</td>\n",
       "      <td>21.50</td>\n",
       "      <td>1</td>\n",
       "      <td>1</td>\n",
       "      <td>0</td>\n",
       "      <td>2.3</td>\n",
       "      <td>4721.0</td>\n",
       "      <td>89.13</td>\n",
       "      <td>0.0</td>\n",
       "      <td>12600.0</td>\n",
       "      <td>1</td>\n",
       "      <td>1</td>\n",
       "      <td>1</td>\n",
       "      <td>0</td>\n",
       "      <td>0</td>\n",
       "    </tr>\n",
       "    <tr>\n",
       "      <th>66</th>\n",
       "      <td>не успішний</td>\n",
       "      <td>115.23</td>\n",
       "      <td>1</td>\n",
       "      <td>1</td>\n",
       "      <td>1</td>\n",
       "      <td>3.0</td>\n",
       "      <td>3286.0</td>\n",
       "      <td>105.62</td>\n",
       "      <td>315.0</td>\n",
       "      <td>10570.0</td>\n",
       "      <td>0</td>\n",
       "      <td>0</td>\n",
       "      <td>0</td>\n",
       "      <td>0</td>\n",
       "      <td>1</td>\n",
       "    </tr>\n",
       "    <tr>\n",
       "      <th>67</th>\n",
       "      <td>не успішний</td>\n",
       "      <td>34.80</td>\n",
       "      <td>1</td>\n",
       "      <td>2</td>\n",
       "      <td>0</td>\n",
       "      <td>4.3</td>\n",
       "      <td>3963.0</td>\n",
       "      <td>168.07</td>\n",
       "      <td>0.0</td>\n",
       "      <td>12460.0</td>\n",
       "      <td>1</td>\n",
       "      <td>1</td>\n",
       "      <td>0</td>\n",
       "      <td>0</td>\n",
       "      <td>0</td>\n",
       "    </tr>\n",
       "    <tr>\n",
       "      <th>68</th>\n",
       "      <td>успішний</td>\n",
       "      <td>22.00</td>\n",
       "      <td>1</td>\n",
       "      <td>1</td>\n",
       "      <td>0</td>\n",
       "      <td>4.9</td>\n",
       "      <td>4200.0</td>\n",
       "      <td>101.73</td>\n",
       "      <td>678.0</td>\n",
       "      <td>10430.0</td>\n",
       "      <td>1</td>\n",
       "      <td>1</td>\n",
       "      <td>0</td>\n",
       "      <td>0</td>\n",
       "      <td>0</td>\n",
       "    </tr>\n",
       "  </tbody>\n",
       "</table>\n",
       "<p>69 rows × 15 columns</p>\n",
       "</div>"
      ],
      "text/plain": [
       "          Успех  Торговельна площа, кв. м.  Этаж  Количество касс  Тип  \\\n",
       "0   не успішний                       9.00     1                1    1   \n",
       "1   не успішний                      22.00     1                1    1   \n",
       "2   не успішний                      13.00     1                1    1   \n",
       "3   не успішний                      18.00     1                1    1   \n",
       "4   не успішний                      25.00     1                1    0   \n",
       "..          ...                        ...   ...              ...  ...   \n",
       "64     успішний                      40.78     1                2    0   \n",
       "65     успішний                      21.50     1                1    0   \n",
       "66  не успішний                     115.23     1                1    1   \n",
       "67  не успішний                      34.80     1                2    0   \n",
       "68     успішний                      22.00     1                1    0   \n",
       "\n",
       "    Рейтинг в гуглі  Количество чеков  Средний чек  Населення  \\\n",
       "0               3.0             659.0        76.85      108.0   \n",
       "1               4.1            1518.0        84.86      750.0   \n",
       "2               3.0             476.0       112.02        0.0   \n",
       "3               3.0            1310.0       119.80        0.0   \n",
       "4               4.0            2029.0        94.88        0.0   \n",
       "..              ...               ...          ...        ...   \n",
       "64              4.0            6884.0       107.37      963.0   \n",
       "65              2.3            4721.0        89.13        0.0   \n",
       "66              3.0            3286.0       105.62      315.0   \n",
       "67              4.3            3963.0       168.07        0.0   \n",
       "68              4.9            4200.0       101.73      678.0   \n",
       "\n",
       "    Середній дохід населення  Спеціалізоване м'ясо  Спеціалізований сир  \\\n",
       "0                    14910.0                     1                    1   \n",
       "1                     9030.0                     0                    0   \n",
       "2                     9030.0                     0                    0   \n",
       "3                    13930.0                     1                    0   \n",
       "4                    14560.0                     0                    0   \n",
       "..                       ...                   ...                  ...   \n",
       "64                    9800.0                     0                    0   \n",
       "65                   12600.0                     1                    1   \n",
       "66                   10570.0                     0                    0   \n",
       "67                   12460.0                     1                    1   \n",
       "68                   10430.0                     1                    1   \n",
       "\n",
       "    Спеціалізована поб. Хімія  Супермаркет  Магазин біля дому  \n",
       "0                           0            1                  1  \n",
       "1                           0            1                  1  \n",
       "2                           0            0                  0  \n",
       "3                           0            1                  1  \n",
       "4                           0            0                  0  \n",
       "..                        ...          ...                ...  \n",
       "64                          1            0                  0  \n",
       "65                          1            0                  0  \n",
       "66                          0            0                  1  \n",
       "67                          0            0                  0  \n",
       "68                          0            0                  0  \n",
       "\n",
       "[69 rows x 15 columns]"
      ]
     },
     "execution_count": 89,
     "metadata": {},
     "output_type": "execute_result"
    }
   ],
   "source": [
    "type_ = {'новий':0,'старий':1, 'cтарий':1}\n",
    "df['Тип'] = df['Тип'].map(type_)\n",
    "df"
   ]
  },
  {
   "cell_type": "code",
   "execution_count": 90,
   "id": "e443e0ad",
   "metadata": {},
   "outputs": [
    {
     "data": {
      "text/html": [
       "<div>\n",
       "<style scoped>\n",
       "    .dataframe tbody tr th:only-of-type {\n",
       "        vertical-align: middle;\n",
       "    }\n",
       "\n",
       "    .dataframe tbody tr th {\n",
       "        vertical-align: top;\n",
       "    }\n",
       "\n",
       "    .dataframe thead th {\n",
       "        text-align: right;\n",
       "    }\n",
       "</style>\n",
       "<table border=\"1\" class=\"dataframe\">\n",
       "  <thead>\n",
       "    <tr style=\"text-align: right;\">\n",
       "      <th></th>\n",
       "      <th>Успех</th>\n",
       "      <th>Торговельна площа, кв. м.</th>\n",
       "      <th>Этаж</th>\n",
       "      <th>Количество касс</th>\n",
       "      <th>Тип</th>\n",
       "      <th>Рейтинг в гуглі</th>\n",
       "      <th>Количество чеков</th>\n",
       "      <th>Средний чек</th>\n",
       "      <th>Населення</th>\n",
       "      <th>Середній дохід населення</th>\n",
       "      <th>Спеціалізоване м'ясо</th>\n",
       "      <th>Спеціалізований сир</th>\n",
       "      <th>Спеціалізована поб. Хімія</th>\n",
       "      <th>Супермаркет</th>\n",
       "      <th>Магазин біля дому</th>\n",
       "    </tr>\n",
       "  </thead>\n",
       "  <tbody>\n",
       "    <tr>\n",
       "      <th>0</th>\n",
       "      <td>0</td>\n",
       "      <td>9.00</td>\n",
       "      <td>1</td>\n",
       "      <td>1</td>\n",
       "      <td>1</td>\n",
       "      <td>3.0</td>\n",
       "      <td>659.0</td>\n",
       "      <td>76.85</td>\n",
       "      <td>108.0</td>\n",
       "      <td>14910.0</td>\n",
       "      <td>1</td>\n",
       "      <td>1</td>\n",
       "      <td>0</td>\n",
       "      <td>1</td>\n",
       "      <td>1</td>\n",
       "    </tr>\n",
       "    <tr>\n",
       "      <th>1</th>\n",
       "      <td>0</td>\n",
       "      <td>22.00</td>\n",
       "      <td>1</td>\n",
       "      <td>1</td>\n",
       "      <td>1</td>\n",
       "      <td>4.1</td>\n",
       "      <td>1518.0</td>\n",
       "      <td>84.86</td>\n",
       "      <td>750.0</td>\n",
       "      <td>9030.0</td>\n",
       "      <td>0</td>\n",
       "      <td>0</td>\n",
       "      <td>0</td>\n",
       "      <td>1</td>\n",
       "      <td>1</td>\n",
       "    </tr>\n",
       "    <tr>\n",
       "      <th>2</th>\n",
       "      <td>0</td>\n",
       "      <td>13.00</td>\n",
       "      <td>1</td>\n",
       "      <td>1</td>\n",
       "      <td>1</td>\n",
       "      <td>3.0</td>\n",
       "      <td>476.0</td>\n",
       "      <td>112.02</td>\n",
       "      <td>0.0</td>\n",
       "      <td>9030.0</td>\n",
       "      <td>0</td>\n",
       "      <td>0</td>\n",
       "      <td>0</td>\n",
       "      <td>0</td>\n",
       "      <td>0</td>\n",
       "    </tr>\n",
       "    <tr>\n",
       "      <th>3</th>\n",
       "      <td>0</td>\n",
       "      <td>18.00</td>\n",
       "      <td>1</td>\n",
       "      <td>1</td>\n",
       "      <td>1</td>\n",
       "      <td>3.0</td>\n",
       "      <td>1310.0</td>\n",
       "      <td>119.80</td>\n",
       "      <td>0.0</td>\n",
       "      <td>13930.0</td>\n",
       "      <td>1</td>\n",
       "      <td>0</td>\n",
       "      <td>0</td>\n",
       "      <td>1</td>\n",
       "      <td>1</td>\n",
       "    </tr>\n",
       "    <tr>\n",
       "      <th>4</th>\n",
       "      <td>0</td>\n",
       "      <td>25.00</td>\n",
       "      <td>1</td>\n",
       "      <td>1</td>\n",
       "      <td>0</td>\n",
       "      <td>4.0</td>\n",
       "      <td>2029.0</td>\n",
       "      <td>94.88</td>\n",
       "      <td>0.0</td>\n",
       "      <td>14560.0</td>\n",
       "      <td>0</td>\n",
       "      <td>0</td>\n",
       "      <td>0</td>\n",
       "      <td>0</td>\n",
       "      <td>0</td>\n",
       "    </tr>\n",
       "    <tr>\n",
       "      <th>...</th>\n",
       "      <td>...</td>\n",
       "      <td>...</td>\n",
       "      <td>...</td>\n",
       "      <td>...</td>\n",
       "      <td>...</td>\n",
       "      <td>...</td>\n",
       "      <td>...</td>\n",
       "      <td>...</td>\n",
       "      <td>...</td>\n",
       "      <td>...</td>\n",
       "      <td>...</td>\n",
       "      <td>...</td>\n",
       "      <td>...</td>\n",
       "      <td>...</td>\n",
       "      <td>...</td>\n",
       "    </tr>\n",
       "    <tr>\n",
       "      <th>64</th>\n",
       "      <td>1</td>\n",
       "      <td>40.78</td>\n",
       "      <td>1</td>\n",
       "      <td>2</td>\n",
       "      <td>0</td>\n",
       "      <td>4.0</td>\n",
       "      <td>6884.0</td>\n",
       "      <td>107.37</td>\n",
       "      <td>963.0</td>\n",
       "      <td>9800.0</td>\n",
       "      <td>0</td>\n",
       "      <td>0</td>\n",
       "      <td>1</td>\n",
       "      <td>0</td>\n",
       "      <td>0</td>\n",
       "    </tr>\n",
       "    <tr>\n",
       "      <th>65</th>\n",
       "      <td>1</td>\n",
       "      <td>21.50</td>\n",
       "      <td>1</td>\n",
       "      <td>1</td>\n",
       "      <td>0</td>\n",
       "      <td>2.3</td>\n",
       "      <td>4721.0</td>\n",
       "      <td>89.13</td>\n",
       "      <td>0.0</td>\n",
       "      <td>12600.0</td>\n",
       "      <td>1</td>\n",
       "      <td>1</td>\n",
       "      <td>1</td>\n",
       "      <td>0</td>\n",
       "      <td>0</td>\n",
       "    </tr>\n",
       "    <tr>\n",
       "      <th>66</th>\n",
       "      <td>0</td>\n",
       "      <td>115.23</td>\n",
       "      <td>1</td>\n",
       "      <td>1</td>\n",
       "      <td>1</td>\n",
       "      <td>3.0</td>\n",
       "      <td>3286.0</td>\n",
       "      <td>105.62</td>\n",
       "      <td>315.0</td>\n",
       "      <td>10570.0</td>\n",
       "      <td>0</td>\n",
       "      <td>0</td>\n",
       "      <td>0</td>\n",
       "      <td>0</td>\n",
       "      <td>1</td>\n",
       "    </tr>\n",
       "    <tr>\n",
       "      <th>67</th>\n",
       "      <td>0</td>\n",
       "      <td>34.80</td>\n",
       "      <td>1</td>\n",
       "      <td>2</td>\n",
       "      <td>0</td>\n",
       "      <td>4.3</td>\n",
       "      <td>3963.0</td>\n",
       "      <td>168.07</td>\n",
       "      <td>0.0</td>\n",
       "      <td>12460.0</td>\n",
       "      <td>1</td>\n",
       "      <td>1</td>\n",
       "      <td>0</td>\n",
       "      <td>0</td>\n",
       "      <td>0</td>\n",
       "    </tr>\n",
       "    <tr>\n",
       "      <th>68</th>\n",
       "      <td>1</td>\n",
       "      <td>22.00</td>\n",
       "      <td>1</td>\n",
       "      <td>1</td>\n",
       "      <td>0</td>\n",
       "      <td>4.9</td>\n",
       "      <td>4200.0</td>\n",
       "      <td>101.73</td>\n",
       "      <td>678.0</td>\n",
       "      <td>10430.0</td>\n",
       "      <td>1</td>\n",
       "      <td>1</td>\n",
       "      <td>0</td>\n",
       "      <td>0</td>\n",
       "      <td>0</td>\n",
       "    </tr>\n",
       "  </tbody>\n",
       "</table>\n",
       "<p>69 rows × 15 columns</p>\n",
       "</div>"
      ],
      "text/plain": [
       "    Успех  Торговельна площа, кв. м.  Этаж  Количество касс  Тип  \\\n",
       "0       0                       9.00     1                1    1   \n",
       "1       0                      22.00     1                1    1   \n",
       "2       0                      13.00     1                1    1   \n",
       "3       0                      18.00     1                1    1   \n",
       "4       0                      25.00     1                1    0   \n",
       "..    ...                        ...   ...              ...  ...   \n",
       "64      1                      40.78     1                2    0   \n",
       "65      1                      21.50     1                1    0   \n",
       "66      0                     115.23     1                1    1   \n",
       "67      0                      34.80     1                2    0   \n",
       "68      1                      22.00     1                1    0   \n",
       "\n",
       "    Рейтинг в гуглі  Количество чеков  Средний чек  Населення  \\\n",
       "0               3.0             659.0        76.85      108.0   \n",
       "1               4.1            1518.0        84.86      750.0   \n",
       "2               3.0             476.0       112.02        0.0   \n",
       "3               3.0            1310.0       119.80        0.0   \n",
       "4               4.0            2029.0        94.88        0.0   \n",
       "..              ...               ...          ...        ...   \n",
       "64              4.0            6884.0       107.37      963.0   \n",
       "65              2.3            4721.0        89.13        0.0   \n",
       "66              3.0            3286.0       105.62      315.0   \n",
       "67              4.3            3963.0       168.07        0.0   \n",
       "68              4.9            4200.0       101.73      678.0   \n",
       "\n",
       "    Середній дохід населення  Спеціалізоване м'ясо  Спеціалізований сир  \\\n",
       "0                    14910.0                     1                    1   \n",
       "1                     9030.0                     0                    0   \n",
       "2                     9030.0                     0                    0   \n",
       "3                    13930.0                     1                    0   \n",
       "4                    14560.0                     0                    0   \n",
       "..                       ...                   ...                  ...   \n",
       "64                    9800.0                     0                    0   \n",
       "65                   12600.0                     1                    1   \n",
       "66                   10570.0                     0                    0   \n",
       "67                   12460.0                     1                    1   \n",
       "68                   10430.0                     1                    1   \n",
       "\n",
       "    Спеціалізована поб. Хімія  Супермаркет  Магазин біля дому  \n",
       "0                           0            1                  1  \n",
       "1                           0            1                  1  \n",
       "2                           0            0                  0  \n",
       "3                           0            1                  1  \n",
       "4                           0            0                  0  \n",
       "..                        ...          ...                ...  \n",
       "64                          1            0                  0  \n",
       "65                          1            0                  0  \n",
       "66                          0            0                  1  \n",
       "67                          0            0                  0  \n",
       "68                          0            0                  0  \n",
       "\n",
       "[69 rows x 15 columns]"
      ]
     },
     "execution_count": 90,
     "metadata": {},
     "output_type": "execute_result"
    }
   ],
   "source": [
    "type_ = {'не успішний':0,'успішний':1}\n",
    "df['Успех'] = df['Успех'].map(type_)\n",
    "df"
   ]
  },
  {
   "cell_type": "markdown",
   "id": "52e5080b",
   "metadata": {},
   "source": [
    "## Chouse features"
   ]
  },
  {
   "cell_type": "code",
   "execution_count": 91,
   "id": "92a04ea5",
   "metadata": {},
   "outputs": [
    {
     "data": {
      "image/png": "[encoded data removed]",
      "text/plain": [
       "<Figure size 864x648 with 2 Axes>"
      ]
     },
     "metadata": {
      "needs_background": "light"
     },
     "output_type": "display_data"
    }
   ],
   "source": [
    "# Cheking correlations\n",
    "corrmat = df.corr()\n",
    "f, ax = plt.subplots(figsize=(12, 9))\n",
    "sns.heatmap(corrmat, annot=True)\n",
    "plt.show()"
   ]
  },
  {
   "cell_type": "markdown",
   "id": "4ee69da7",
   "metadata": {},
   "source": [
    "Самый большой показатель корреляции к парметру \"Успех\" показывает \"Количество чеков\" и \"Количество касс\" остальные же парамте незначительно влияют на знаяения параметра \"Успех\". Используем эти два параметра для определения успеха."
   ]
  },
  {
   "cell_type": "markdown",
   "id": "88203507",
   "metadata": {},
   "source": [
    "# Classification Tree & Ensembles"
   ]
  },
  {
   "cell_type": "code",
   "execution_count": 92,
   "id": "bc6ef9d0",
   "metadata": {},
   "outputs": [],
   "source": [
    "features = ['Количество чеков', 'Количество касс']\n",
    "X =df[features]\n",
    "y = df['Успех']\n",
    "X_train, X_test, y_train, y_test = train_test_split(X, y, test_size=0.2, random_state=10)"
   ]
  },
  {
   "cell_type": "code",
   "execution_count": 93,
   "id": "c0cb43e3",
   "metadata": {},
   "outputs": [
    {
     "data": {
      "image/png": "[encoded data removed]",
      "text/plain": [
       "<Figure size 576x288 with 1 Axes>"
      ]
     },
     "metadata": {
      "needs_background": "light"
     },
     "output_type": "display_data"
    }
   ],
   "source": [
    "# The optimal number of max_leaf_nodes\n",
    "max_leaf_nodes(X_train, X_test, y_train, y_test, [2, 4, 6, 8, 10])"
   ]
  },
  {
   "cell_type": "markdown",
   "id": "30b452a1",
   "metadata": {},
   "source": [
    "## Model"
   ]
  },
  {
   "cell_type": "code",
   "execution_count": 94,
   "id": "b05bb772",
   "metadata": {},
   "outputs": [],
   "source": [
    "# Fitting Classification Tree to the Training set (2 variables)\n",
    "ct = DecisionTreeClassifier(max_leaf_nodes = 6, criterion = 'entropy', random_state = 10).fit(X_train, y_train)"
   ]
  },
  {
   "cell_type": "markdown",
   "id": "e99a1a1a",
   "metadata": {},
   "source": [
    "## Result"
   ]
  },
  {
   "cell_type": "code",
   "execution_count": 95,
   "id": "d17cef86",
   "metadata": {},
   "outputs": [
    {
     "data": {
      "text/plain": [
       "0.8571428571428571"
      ]
     },
     "execution_count": 95,
     "metadata": {},
     "output_type": "execute_result"
    }
   ],
   "source": [
    "# Predicting the Test set results\n",
    "y_pred = ct.predict(X_test)\n",
    "ct.score(X_test,y_test)"
   ]
  },
  {
   "cell_type": "code",
   "execution_count": 96,
   "id": "7f18ed30",
   "metadata": {},
   "outputs": [
    {
     "name": "stdout",
     "output_type": "stream",
     "text": [
      "[[9 2]\n",
      " [0 3]]\n"
     ]
    }
   ],
   "source": [
    "# Making the Confusion Matrix\n",
    "cm = confusion_matrix(y_test, y_pred)\n",
    "print(cm)"
   ]
  },
  {
   "cell_type": "code",
   "execution_count": 97,
   "id": "c2307b52",
   "metadata": {},
   "outputs": [
    {
     "data": {
      "text/plain": [
       "Text(0.5, 1.0, 'Boosting. Feature Importance')"
      ]
     },
     "execution_count": 97,
     "metadata": {},
     "output_type": "execute_result"
    },
    {
     "data": {
      "image/png": "[encoded data removed]",
      "text/plain": [
       "<Figure size 720x504 with 1 Axes>"
      ]
     },
     "metadata": {
      "needs_background": "light"
     },
     "output_type": "display_data"
    }
   ],
   "source": [
    "# Features importances\n",
    "col = features\n",
    "ct_imp = pd.DataFrame({'imp': ct.feature_importances_, 'col': col})\n",
    "ct_imp = ct_imp.sort_values(['imp', 'col'], ascending=[True, False]).iloc[-25:]\n",
    "ct_imp.plot(kind='barh', x='col', y='imp', figsize=(10, 7), legend=None)\n",
    "plt.title('Boosting. Feature Importance')"
   ]
  },
  {
   "cell_type": "markdown",
   "id": "9e0a1ad3",
   "metadata": {},
   "source": [
    "## Visualisation"
   ]
  },
  {
   "cell_type": "code",
   "execution_count": 98,
   "id": "e93b5729",
   "metadata": {},
   "outputs": [
    {
     "name": "stderr",
     "output_type": "stream",
     "text": [
      "*c* argument looks like a single numeric RGB or RGBA sequence, which should be avoided as value-mapping will have precedence in case its length matches with *x* & *y*.  Please use the *color* keyword-argument or provide a 2-D array with a single row if you intend to specify the same RGB or RGBA value for all points.\n",
      "*c* argument looks like a single numeric RGB or RGBA sequence, which should be avoided as value-mapping will have precedence in case its length matches with *x* & *y*.  Please use the *color* keyword-argument or provide a 2-D array with a single row if you intend to specify the same RGB or RGBA value for all points.\n"
     ]
    },
    {
     "data": {
      "image/png": "[encoded data removed]",
      "text/plain": [
       "<Figure size 432x288 with 1 Axes>"
      ]
     },
     "metadata": {
      "needs_background": "light"
     },
     "output_type": "display_data"
    }
   ],
   "source": [
    "# Visualising the Test set results\n",
    "X_set, y_set = X_test, y_test\n",
    "X1, X2 = np.meshgrid(np.arange(start = X_set['Количество чеков'].min() - 1, stop = X_set['Количество чеков'].max() + 1),\n",
    "                     np.arange(start = X_set['Количество касс'].min() - 1, stop = X_set['Количество касс'].max() + 1))\n",
    "plt.contourf(X1, X2, ct.predict(np.array([X1.ravel(), X2.ravel()]).T).reshape(X1.shape),\n",
    "             alpha = 0.75, cmap = ListedColormap(('red', 'green')))\n",
    "plt.xlim(X1.min(), X1.max())\n",
    "plt.ylim(X2.min(), X2.max())\n",
    "for i, j in enumerate(np.unique(y_set)):\n",
    "    plt.scatter(X_set['Количество чеков'][y_set == j], X_set['Количество касс'][y_set == j],\n",
    "                c = ListedColormap(('red', 'green'))(i), label = j)\n",
    "plt.title('Classification Tree (Test set)')\n",
    "plt.xlabel('Количество чеков')\n",
    "plt.ylabel('Количество касс')\n",
    "plt.legend()\n",
    "plt.show()"
   ]
  },
  {
   "cell_type": "markdown",
   "id": "9af69991",
   "metadata": {},
   "source": [
    "# Forest\n"
   ]
  },
  {
   "cell_type": "markdown",
   "id": "606d1e1b",
   "metadata": {},
   "source": [
    "## Paremeters"
   ]
  },
  {
   "cell_type": "code",
   "execution_count": 99,
   "id": "7e2fcec7",
   "metadata": {},
   "outputs": [
    {
     "data": {
      "image/png": "[encoded data removed]",
      "text/plain": [
       "<Figure size 576x288 with 1 Axes>"
      ]
     },
     "metadata": {
      "needs_background": "light"
     },
     "output_type": "display_data"
    }
   ],
   "source": [
    "# The optimal number of trees \n",
    "rf_best_n_estimator(X_train, X_test, y_train, y_test, [2, 5, 10, 15, 20])"
   ]
  },
  {
   "cell_type": "markdown",
   "id": "c3f2022e",
   "metadata": {},
   "source": [
    "При n_estimators = 5 мы уже можем достичь минимально возможного MSE"
   ]
  },
  {
   "cell_type": "code",
   "execution_count": 100,
   "id": "8b5bb85b",
   "metadata": {},
   "outputs": [
    {
     "data": {
      "image/png": "[encoded data removed]",
      "text/plain": [
       "<Figure size 576x288 with 1 Axes>"
      ]
     },
     "metadata": {
      "needs_background": "light"
     },
     "output_type": "display_data"
    }
   ],
   "source": [
    "# The optimal number of max_leaf_nodes\n",
    "rf_max_leaf_nodes(X_train, X_test, y_train, y_test, [2, 4, 6, 8, 10])"
   ]
  },
  {
   "cell_type": "markdown",
   "id": "97b086e6",
   "metadata": {},
   "source": [
    "При max_leaf_nodes= 4 мы видем что значение MSE на тестовой выборки уже не изменяеться. Возьмем это значение."
   ]
  },
  {
   "cell_type": "markdown",
   "id": "6aa2cfa9",
   "metadata": {},
   "source": [
    "## Model"
   ]
  },
  {
   "cell_type": "code",
   "execution_count": 101,
   "id": "3aae926e",
   "metadata": {},
   "outputs": [],
   "source": [
    "# Fitting Random Forest to the Training set\n",
    "rf = RandomForestClassifier(n_estimators = 5, max_leaf_nodes = 4, random_state = 10).fit(X_train, y_train)"
   ]
  },
  {
   "cell_type": "markdown",
   "id": "5eae74c5",
   "metadata": {},
   "source": [
    "## Results"
   ]
  },
  {
   "cell_type": "code",
   "execution_count": 102,
   "id": "0e5d2ddd",
   "metadata": {},
   "outputs": [
    {
     "data": {
      "text/plain": [
       "0.857"
      ]
     },
     "execution_count": 102,
     "metadata": {},
     "output_type": "execute_result"
    }
   ],
   "source": [
    "# Predicting the Test set results\n",
    "y_pred = rf.predict(X_test)\n",
    "y_pred = (y_pred > 0.5)\n",
    "rf.score(X_test,y_test).round(3)"
   ]
  },
  {
   "cell_type": "code",
   "execution_count": 103,
   "id": "1ab6e67a",
   "metadata": {},
   "outputs": [
    {
     "name": "stdout",
     "output_type": "stream",
     "text": [
      "[[9 2]\n",
      " [0 3]]\n"
     ]
    }
   ],
   "source": [
    "# Making the Confusion Matrix\n",
    "cm = confusion_matrix(y_test, y_pred)\n",
    "print(cm)"
   ]
  },
  {
   "cell_type": "code",
   "execution_count": 113,
   "id": "d4a488b1",
   "metadata": {},
   "outputs": [
    {
     "data": {
      "text/plain": [
       "Text(0.5, 1.0, 'Boosting. Feature Importance')"
      ]
     },
     "execution_count": 113,
     "metadata": {},
     "output_type": "execute_result"
    },
    {
     "data": {
      "image/png": "[encoded data removed]",
      "text/plain": [
       "<Figure size 720x504 with 1 Axes>"
      ]
     },
     "metadata": {
      "needs_background": "light"
     },
     "output_type": "display_data"
    }
   ],
   "source": [
    "# Features importances\n",
    "rf_imp = pd.DataFrame({'imp': rf.feature_importances_, 'col': col})\n",
    "rf_imp = rf_imp.sort_values(['imp', 'col'], ascending=[True, False]).iloc[-25:]\n",
    "rf_imp.plot(kind='barh', x='col', y='imp', figsize=(10, 7), legend=None)\n",
    "plt.title('Boosting. Feature Importance')"
   ]
  },
  {
   "cell_type": "markdown",
   "id": "6b14aa21",
   "metadata": {},
   "source": [
    "При исползьваниее RandomForestClassifier оба параметра значими. Количество чеков более значимы парметр"
   ]
  },
  {
   "cell_type": "markdown",
   "id": "ec7aeb90",
   "metadata": {},
   "source": [
    "# Visualisation"
   ]
  },
  {
   "cell_type": "code",
   "execution_count": 105,
   "id": "e1fe1294",
   "metadata": {},
   "outputs": [
    {
     "name": "stderr",
     "output_type": "stream",
     "text": [
      "*c* argument looks like a single numeric RGB or RGBA sequence, which should be avoided as value-mapping will have precedence in case its length matches with *x* & *y*.  Please use the *color* keyword-argument or provide a 2-D array with a single row if you intend to specify the same RGB or RGBA value for all points.\n",
      "*c* argument looks like a single numeric RGB or RGBA sequence, which should be avoided as value-mapping will have precedence in case its length matches with *x* & *y*.  Please use the *color* keyword-argument or provide a 2-D array with a single row if you intend to specify the same RGB or RGBA value for all points.\n"
     ]
    },
    {
     "data": {
      "image/png": "[encoded data removed]",
      "text/plain": [
       "<Figure size 432x288 with 1 Axes>"
      ]
     },
     "metadata": {
      "needs_background": "light"
     },
     "output_type": "display_data"
    }
   ],
   "source": [
    "# Visualising the Test set results\n",
    "X_set, y_set = X_test, y_test\n",
    "X_set, y_set = X_test, y_test\n",
    "X1, X2 = np.meshgrid(np.arange(start = X_set['Количество чеков'].min() - 1, stop = X_set['Количество чеков'].max() + 1),\n",
    "                     np.arange(start = X_set['Количество касс'].min() - 1, stop = X_set['Количество касс'].max() + 1))\n",
    "plt.contourf(X1, X2, rf.predict(np.array([X1.ravel(), X2.ravel()]).T).reshape(X1.shape),\n",
    "             alpha = 0.75, cmap = ListedColormap(('red', 'green')))\n",
    "plt.xlim(X1.min(), X1.max())\n",
    "plt.ylim(X2.min(), X2.max())\n",
    "for i, j in enumerate(np.unique(y_set)):\n",
    "    plt.scatter(X_set['Количество чеков'][y_set == j], X_set['Количество касс'][y_set == j],\n",
    "                c = ListedColormap(('red', 'green'))(i), label = j)\n",
    "plt.title('Random Forest (Test set)')\n",
    "plt.xlabel('Количество чеков')\n",
    "plt.ylabel('Количество касс')\n",
    "plt.legend()\n",
    "plt.show()"
   ]
  },
  {
   "cell_type": "markdown",
   "id": "4dfe1f35",
   "metadata": {},
   "source": [
    "# CatBoost"
   ]
  },
  {
   "cell_type": "markdown",
   "id": "5c7fba14",
   "metadata": {},
   "source": [
    "## Paremeters"
   ]
  },
  {
   "cell_type": "code",
   "execution_count": 106,
   "id": "0e03a921",
   "metadata": {},
   "outputs": [
    {
     "data": {
      "image/png": "[encoded data removed]",
      "text/plain": [
       "<Figure size 576x288 with 1 Axes>"
      ]
     },
     "metadata": {
      "needs_background": "light"
     },
     "output_type": "display_data"
    }
   ],
   "source": [
    "catboost_best_iterations(X_train, X_test, y_train, y_test, list(range(1,13)))"
   ]
  },
  {
   "cell_type": "markdown",
   "id": "6cc16ec3",
   "metadata": {},
   "source": [
    "уже при iterations=2 мы достигаем минимальной MSE"
   ]
  },
  {
   "cell_type": "code",
   "execution_count": 107,
   "id": "5c258369",
   "metadata": {},
   "outputs": [
    {
     "data": {
      "image/png": "[encoded data removed]",
      "text/plain": [
       "<Figure size 576x288 with 1 Axes>"
      ]
     },
     "metadata": {
      "needs_background": "light"
     },
     "output_type": "display_data"
    }
   ],
   "source": [
    "catboost_max_depth(X_train, X_test, y_train, y_test, list(range(1,15)))"
   ]
  },
  {
   "cell_type": "markdown",
   "id": "81bb26aa",
   "metadata": {},
   "source": [
    "при max_depth=2 мы уже получаем минимальное значение MSE"
   ]
  },
  {
   "cell_type": "markdown",
   "id": "c570be4d",
   "metadata": {},
   "source": [
    "## Model"
   ]
  },
  {
   "cell_type": "code",
   "execution_count": 108,
   "id": "d76ef246",
   "metadata": {},
   "outputs": [],
   "source": [
    "# Fitting CatBoost to the Training set\n",
    "cb = CatBoostClassifier(iterations=2,max_depth=2,random_state=10).fit(X_train, y_train,eval_set=(X_test, y_test),logging_level='Silent')"
   ]
  },
  {
   "cell_type": "markdown",
   "id": "ceb19807",
   "metadata": {},
   "source": [
    "## Results"
   ]
  },
  {
   "cell_type": "code",
   "execution_count": 109,
   "id": "7e627841",
   "metadata": {},
   "outputs": [
    {
     "data": {
      "text/plain": [
       "0.857"
      ]
     },
     "execution_count": 109,
     "metadata": {},
     "output_type": "execute_result"
    }
   ],
   "source": [
    "# Predicting the Test set results\n",
    "cb_y_pred = cb.predict(X_test)\n",
    "cb.score(X_test,y_test).round(3)"
   ]
  },
  {
   "cell_type": "code",
   "execution_count": 110,
   "id": "e8c88558",
   "metadata": {},
   "outputs": [
    {
     "name": "stdout",
     "output_type": "stream",
     "text": [
      "[[9 2]\n",
      " [0 3]]\n"
     ]
    }
   ],
   "source": [
    "# Making the Confusion Matrix\n",
    "cm = confusion_matrix(y_test, cb_y_pred)\n",
    "print(cm)"
   ]
  },
  {
   "cell_type": "code",
   "execution_count": 111,
   "id": "46c5845e",
   "metadata": {},
   "outputs": [
    {
     "data": {
      "text/plain": [
       "Text(0.5, 1.0, 'Boosting. Feature Importance')"
      ]
     },
     "execution_count": 111,
     "metadata": {},
     "output_type": "execute_result"
    },
    {
     "data": {
      "image/png": "[encoded data removed]",
      "text/plain": [
       "<Figure size 720x504 with 1 Axes>"
      ]
     },
     "metadata": {
      "needs_background": "light"
     },
     "output_type": "display_data"
    }
   ],
   "source": [
    "# Features importances\n",
    "cb_imp = pd.DataFrame({'imp': cb.get_feature_importance(), 'col': col})\n",
    "cb_imp = cb_imp.sort_values(['imp', 'col'], ascending=[True, False]).iloc[-25:]\n",
    "cb_imp.plot(kind='barh', x='col', y='imp', figsize=(10, 7), legend=None)\n",
    "plt.title('Boosting. Feature Importance')"
   ]
  },
  {
   "cell_type": "markdown",
   "id": "2d8aac2e",
   "metadata": {},
   "source": [
    "При использовании CatBoostClassifier мы видим что он способен определить класс с той же точность что и RandomForestClassifier используя только \"Количество чеков\" вторая же пееременная не значима в этой модели"
   ]
  },
  {
   "cell_type": "code",
   "execution_count": 112,
   "id": "6451b369",
   "metadata": {},
   "outputs": [
    {
     "name": "stderr",
     "output_type": "stream",
     "text": [
      "*c* argument looks like a single numeric RGB or RGBA sequence, which should be avoided as value-mapping will have precedence in case its length matches with *x* & *y*.  Please use the *color* keyword-argument or provide a 2-D array with a single row if you intend to specify the same RGB or RGBA value for all points.\n",
      "*c* argument looks like a single numeric RGB or RGBA sequence, which should be avoided as value-mapping will have precedence in case its length matches with *x* & *y*.  Please use the *color* keyword-argument or provide a 2-D array with a single row if you intend to specify the same RGB or RGBA value for all points.\n"
     ]
    },
    {
     "data": {
      "image/png": "[encoded data removed]",
      "text/plain": [
       "<Figure size 432x288 with 1 Axes>"
      ]
     },
     "metadata": {
      "needs_background": "light"
     },
     "output_type": "display_data"
    }
   ],
   "source": [
    "# Visualising the Test set results\n",
    "X_set, y_set = X_test, y_test\n",
    "X_set, y_set = X_test, y_test\n",
    "X1, X2 = np.meshgrid(np.arange(start = X_set['Количество чеков'].min() - 1, stop = X_set['Количество чеков'].max() + 1),\n",
    "                     np.arange(start = X_set['Количество касс'].min() - 1, stop = X_set['Количество касс'].max() + 1))\n",
    "plt.contourf(X1, X2, cb.predict(np.array([X1.ravel(), X2.ravel()]).T).reshape(X1.shape),\n",
    "             alpha = 0.75, cmap = ListedColormap(('red', 'green')))\n",
    "plt.xlim(X1.min(), X1.max())\n",
    "plt.ylim(X2.min(), X2.max())\n",
    "for i, j in enumerate(np.unique(y_set)):\n",
    "    plt.scatter(X_set['Количество чеков'][y_set == j], X_set['Количество касс'][y_set == j],\n",
    "                c = ListedColormap(('red', 'green'))(i), label = j)\n",
    "plt.title('Random Forest (Test set)')\n",
    "plt.xlabel('Количество чеков')\n",
    "plt.ylabel('Количество касс')\n",
    "plt.legend()\n",
    "plt.show()"
   ]
  },
  {
   "cell_type": "markdown",
   "id": "06d88a17",
   "metadata": {},
   "source": [
    "Все подходы классификации показали хороший результат. Точность выше 85% что являеться хорошим показателем. Добавление большего количество переменных может улучшить результат лиш незначительно, так как не имеют высокого показателя корреляции к \"Успеху\", даже возможено улечшении результатов модели из-за переобучения."
   ]
  },
  {
   "cell_type": "markdown",
   "id": "ef61fde7",
   "metadata": {},
   "source": [
    "# Hierarchical Clustering"
   ]
  },
  {
   "cell_type": "code",
   "execution_count": 117,
   "id": "fb54553f",
   "metadata": {},
   "outputs": [],
   "source": [
    "sc = MinMaxScaler().fit(df)\n",
    "df_arr = sc.transform(df)"
   ]
  },
  {
   "cell_type": "code",
   "execution_count": 118,
   "id": "0877c06c",
   "metadata": {},
   "outputs": [],
   "source": [
    "df = pd.DataFrame(df_arr, columns=df.columns).round()"
   ]
  },
  {
   "cell_type": "code",
   "execution_count": 119,
   "id": "e5652928",
   "metadata": {},
   "outputs": [
    {
     "data": {
      "image/png": "[encoded data removed]",
      "text/plain": [
       "<Figure size 864x648 with 2 Axes>"
      ]
     },
     "metadata": {
      "needs_background": "light"
     },
     "output_type": "display_data"
    }
   ],
   "source": [
    "corrmat = df.corr()\n",
    "f, ax = plt.subplots(figsize=(12, 9))\n",
    "sns.heatmap(corrmat, annot=True)\n",
    "plt.show()"
   ]
  },
  {
   "cell_type": "code",
   "execution_count": 120,
   "id": "83664546",
   "metadata": {},
   "outputs": [
    {
     "data": {
      "image/png": "[encoded data removed]",
      "text/plain": [
       "<Figure size 432x288 with 1 Axes>"
      ]
     },
     "metadata": {
      "needs_background": "light"
     },
     "output_type": "display_data"
    }
   ],
   "source": [
    "dendrogram = sch.dendrogram(sch.linkage(df, method = 'ward'))\n",
    "plt.title('Dendrogram')\n",
    "plt.xlabel('Customers')\n",
    "plt.ylabel('Euclidean distances')\n",
    "plt.show()"
   ]
  },
  {
   "cell_type": "code",
   "execution_count": 121,
   "id": "67df4a74",
   "metadata": {},
   "outputs": [],
   "source": [
    "hc = AgglomerativeClustering(n_clusters = 4, affinity = 'euclidean', linkage = 'ward').fit_predict(df)"
   ]
  },
  {
   "cell_type": "code",
   "execution_count": 122,
   "id": "15a9fee6",
   "metadata": {},
   "outputs": [
    {
     "data": {
      "text/plain": [
       "array([2, 0, 0, 2, 2, 3, 0, 1, 0, 2, 2, 2, 3, 2, 1, 0, 0, 0, 2, 0, 2, 3,\n",
       "       1, 1, 3, 2, 0, 0, 1, 1, 2, 2, 0, 0, 3, 2, 2, 0, 2, 0, 0, 1, 0, 2,\n",
       "       0, 2, 0, 0, 2, 1, 1, 0, 1, 1, 2, 3, 3, 0, 2, 1, 0, 1, 1, 2, 1, 3,\n",
       "       0, 3, 1])"
      ]
     },
     "execution_count": 122,
     "metadata": {},
     "output_type": "execute_result"
    }
   ],
   "source": [
    "hc"
   ]
  },
  {
   "cell_type": "markdown",
   "id": "b27c430f",
   "metadata": {},
   "source": [
    "Используя все известные нам данные Иерархическая кластеризация показыват на достаточно четкие 4 класса. Так же можно разбить данные на 6 классов."
   ]
  },
  {
   "cell_type": "markdown",
   "id": "a4f8cc74",
   "metadata": {},
   "source": [
    "# Feature Reduction"
   ]
  },
  {
   "cell_type": "markdown",
   "id": "d4d4a4b7",
   "metadata": {},
   "source": [
    "Для меня представляет интерес на какие кластеры разделяться данные относительно трех параметров:\n",
    "- Рейтинг в гуглі\n",
    "- Количество чеков\n",
    "- Населення"
   ]
  },
  {
   "cell_type": "code",
   "execution_count": 123,
   "id": "92445321",
   "metadata": {},
   "outputs": [
    {
     "data": {
      "text/html": [
       "<div>\n",
       "<style scoped>\n",
       "    .dataframe tbody tr th:only-of-type {\n",
       "        vertical-align: middle;\n",
       "    }\n",
       "\n",
       "    .dataframe tbody tr th {\n",
       "        vertical-align: top;\n",
       "    }\n",
       "\n",
       "    .dataframe thead th {\n",
       "        text-align: right;\n",
       "    }\n",
       "</style>\n",
       "<table border=\"1\" class=\"dataframe\">\n",
       "  <thead>\n",
       "    <tr style=\"text-align: right;\">\n",
       "      <th></th>\n",
       "      <th>Рейтинг в гуглі</th>\n",
       "      <th>Количество чеков</th>\n",
       "      <th>Населення</th>\n",
       "    </tr>\n",
       "  </thead>\n",
       "  <tbody>\n",
       "    <tr>\n",
       "      <th>0</th>\n",
       "      <td>0.0</td>\n",
       "      <td>0.0</td>\n",
       "      <td>0.0</td>\n",
       "    </tr>\n",
       "    <tr>\n",
       "      <th>1</th>\n",
       "      <td>1.0</td>\n",
       "      <td>0.0</td>\n",
       "      <td>1.0</td>\n",
       "    </tr>\n",
       "    <tr>\n",
       "      <th>2</th>\n",
       "      <td>0.0</td>\n",
       "      <td>0.0</td>\n",
       "      <td>0.0</td>\n",
       "    </tr>\n",
       "    <tr>\n",
       "      <th>3</th>\n",
       "      <td>0.0</td>\n",
       "      <td>0.0</td>\n",
       "      <td>0.0</td>\n",
       "    </tr>\n",
       "    <tr>\n",
       "      <th>4</th>\n",
       "      <td>1.0</td>\n",
       "      <td>0.0</td>\n",
       "      <td>0.0</td>\n",
       "    </tr>\n",
       "    <tr>\n",
       "      <th>...</th>\n",
       "      <td>...</td>\n",
       "      <td>...</td>\n",
       "      <td>...</td>\n",
       "    </tr>\n",
       "    <tr>\n",
       "      <th>64</th>\n",
       "      <td>1.0</td>\n",
       "      <td>1.0</td>\n",
       "      <td>1.0</td>\n",
       "    </tr>\n",
       "    <tr>\n",
       "      <th>65</th>\n",
       "      <td>0.0</td>\n",
       "      <td>0.0</td>\n",
       "      <td>0.0</td>\n",
       "    </tr>\n",
       "    <tr>\n",
       "      <th>66</th>\n",
       "      <td>0.0</td>\n",
       "      <td>0.0</td>\n",
       "      <td>0.0</td>\n",
       "    </tr>\n",
       "    <tr>\n",
       "      <th>67</th>\n",
       "      <td>1.0</td>\n",
       "      <td>0.0</td>\n",
       "      <td>0.0</td>\n",
       "    </tr>\n",
       "    <tr>\n",
       "      <th>68</th>\n",
       "      <td>1.0</td>\n",
       "      <td>0.0</td>\n",
       "      <td>1.0</td>\n",
       "    </tr>\n",
       "  </tbody>\n",
       "</table>\n",
       "<p>69 rows × 3 columns</p>\n",
       "</div>"
      ],
      "text/plain": [
       "    Рейтинг в гуглі  Количество чеков  Населення\n",
       "0               0.0               0.0        0.0\n",
       "1               1.0               0.0        1.0\n",
       "2               0.0               0.0        0.0\n",
       "3               0.0               0.0        0.0\n",
       "4               1.0               0.0        0.0\n",
       "..              ...               ...        ...\n",
       "64              1.0               1.0        1.0\n",
       "65              0.0               0.0        0.0\n",
       "66              0.0               0.0        0.0\n",
       "67              1.0               0.0        0.0\n",
       "68              1.0               0.0        1.0\n",
       "\n",
       "[69 rows x 3 columns]"
      ]
     },
     "execution_count": 123,
     "metadata": {},
     "output_type": "execute_result"
    }
   ],
   "source": [
    "df.iloc[:, [5, 6, 8]]"
   ]
  },
  {
   "cell_type": "code",
   "execution_count": 124,
   "id": "ad165233",
   "metadata": {},
   "outputs": [],
   "source": [
    "X = df.iloc[:, [5, 6, 8]]"
   ]
  },
  {
   "cell_type": "code",
   "execution_count": 125,
   "id": "7105dd90",
   "metadata": {},
   "outputs": [
    {
     "data": {
      "image/png": "[encoded data removed]",
      "text/plain": [
       "<Figure size 432x288 with 1 Axes>"
      ]
     },
     "metadata": {
      "needs_background": "light"
     },
     "output_type": "display_data"
    }
   ],
   "source": [
    "# Using the dendrogram to find the optimal number of clusters\n",
    "dendrogram = sch.dendrogram(sch.linkage(X, method = 'ward'))\n",
    "plt.title('Dendrogram')\n",
    "plt.xlabel('Customers')\n",
    "plt.ylabel('Euclidean distances')\n",
    "plt.show()"
   ]
  },
  {
   "cell_type": "markdown",
   "id": "86b641ea",
   "metadata": {},
   "source": [
    "Имеет 3 ярко выраженных кластера"
   ]
  },
  {
   "cell_type": "code",
   "execution_count": 126,
   "id": "646299a9",
   "metadata": {},
   "outputs": [],
   "source": [
    "# Fitting Hierarchical Clustering to the dataset\n",
    "hc_3 = AgglomerativeClustering(n_clusters = 3, affinity = 'euclidean', linkage = 'ward').fit_predict(X)"
   ]
  },
  {
   "cell_type": "markdown",
   "id": "4b2da38d",
   "metadata": {},
   "source": [
    "# K-Means Clustering"
   ]
  },
  {
   "cell_type": "code",
   "execution_count": 127,
   "id": "ee9d7526",
   "metadata": {},
   "outputs": [
    {
     "data": {
      "image/png": "[encoded data removed]",
      "text/plain": [
       "<Figure size 432x288 with 1 Axes>"
      ]
     },
     "metadata": {
      "needs_background": "light"
     },
     "output_type": "display_data"
    }
   ],
   "source": [
    "# Using the elbow method to find the optimal number of clusters\n",
    "wcss = []\n",
    "for i in range(1, 11):\n",
    "    kmeans = KMeans(n_clusters = i, init = 'k-means++', random_state = 0)\n",
    "    kmeans.fit(df)\n",
    "    wcss.append(kmeans.inertia_)\n",
    "\n",
    "plt.plot(range(1, 11), wcss)\n",
    "plt.title('The Elbow Method')\n",
    "plt.xlabel('Number of clusters')\n",
    "plt.ylabel('WCSS')\n",
    "plt.show()"
   ]
  },
  {
   "cell_type": "markdown",
   "id": "3a6b2dda",
   "metadata": {},
   "source": [
    "Видим незначительный перелом в количество классетров 4"
   ]
  },
  {
   "cell_type": "code",
   "execution_count": 128,
   "id": "beef13ec",
   "metadata": {},
   "outputs": [
    {
     "data": {
      "image/png": "[encoded data removed]",
      "text/plain": [
       "<Figure size 432x288 with 1 Axes>"
      ]
     },
     "metadata": {
      "needs_background": "light"
     },
     "output_type": "display_data"
    },
    {
     "name": "stdout",
     "output_type": "stream",
     "text": [
      "2:0.1781882198249141\n",
      "3:0.18659499111001565\n",
      "4:0.1915167949618983\n",
      "5:0.19724148840642597\n"
     ]
    }
   ],
   "source": [
    "# Using the silhouette method to find the optimal number of clusters\n",
    "\n",
    "sil = []\n",
    "\n",
    "for k in range(2, 6):\n",
    "  kmeans = KMeans(n_clusters = k).fit(df)  \n",
    "  preds = kmeans.fit_predict(df)\n",
    "  sil.append(silhouette_score(df, preds, metric = 'euclidean'))\n",
    "\n",
    "\n",
    "plt.plot(range(2, 6), sil)\n",
    "plt.title('Silhouette Method')\n",
    "plt.xlabel('Number of clusters')\n",
    "plt.ylabel('Sil')\n",
    "plt.show()\n",
    "\n",
    "for i in range(len(sil)):\n",
    " print(str(i+2) +\":\"+ str(sil[i]))"
   ]
  },
  {
   "cell_type": "markdown",
   "id": "5c072a3c",
   "metadata": {},
   "source": [
    "## Model"
   ]
  },
  {
   "cell_type": "code",
   "execution_count": 129,
   "id": "0c9822b4",
   "metadata": {},
   "outputs": [
    {
     "data": {
      "text/html": [
       "<div>\n",
       "<style scoped>\n",
       "    .dataframe tbody tr th:only-of-type {\n",
       "        vertical-align: middle;\n",
       "    }\n",
       "\n",
       "    .dataframe tbody tr th {\n",
       "        vertical-align: top;\n",
       "    }\n",
       "\n",
       "    .dataframe thead th {\n",
       "        text-align: right;\n",
       "    }\n",
       "</style>\n",
       "<table border=\"1\" class=\"dataframe\">\n",
       "  <thead>\n",
       "    <tr style=\"text-align: right;\">\n",
       "      <th></th>\n",
       "      <th>Успех</th>\n",
       "      <th>Торговельна площа, кв. м.</th>\n",
       "      <th>Этаж</th>\n",
       "      <th>Количество касс</th>\n",
       "      <th>Тип</th>\n",
       "      <th>Рейтинг в гуглі</th>\n",
       "      <th>Количество чеков</th>\n",
       "      <th>Средний чек</th>\n",
       "      <th>Населення</th>\n",
       "      <th>Середній дохід населення</th>\n",
       "      <th>Спеціалізоване м'ясо</th>\n",
       "      <th>Спеціалізований сир</th>\n",
       "      <th>Спеціалізована поб. Хімія</th>\n",
       "      <th>Супермаркет</th>\n",
       "      <th>Магазин біля дому</th>\n",
       "    </tr>\n",
       "  </thead>\n",
       "  <tbody>\n",
       "    <tr>\n",
       "      <th>0</th>\n",
       "      <td>0.21</td>\n",
       "      <td>0.04</td>\n",
       "      <td>0.0</td>\n",
       "      <td>-0.00</td>\n",
       "      <td>0.13</td>\n",
       "      <td>0.92</td>\n",
       "      <td>-0.00</td>\n",
       "      <td>-0.00</td>\n",
       "      <td>0.25</td>\n",
       "      <td>1.00</td>\n",
       "      <td>0.08</td>\n",
       "      <td>0.04</td>\n",
       "      <td>0.04</td>\n",
       "      <td>0.25</td>\n",
       "      <td>0.12</td>\n",
       "    </tr>\n",
       "    <tr>\n",
       "      <th>1</th>\n",
       "      <td>1.00</td>\n",
       "      <td>0.19</td>\n",
       "      <td>0.0</td>\n",
       "      <td>-0.00</td>\n",
       "      <td>0.00</td>\n",
       "      <td>0.94</td>\n",
       "      <td>0.88</td>\n",
       "      <td>0.31</td>\n",
       "      <td>0.50</td>\n",
       "      <td>0.94</td>\n",
       "      <td>0.19</td>\n",
       "      <td>0.12</td>\n",
       "      <td>0.31</td>\n",
       "      <td>0.12</td>\n",
       "      <td>0.38</td>\n",
       "    </tr>\n",
       "    <tr>\n",
       "      <th>2</th>\n",
       "      <td>0.11</td>\n",
       "      <td>0.11</td>\n",
       "      <td>0.0</td>\n",
       "      <td>0.05</td>\n",
       "      <td>1.00</td>\n",
       "      <td>0.16</td>\n",
       "      <td>0.05</td>\n",
       "      <td>0.05</td>\n",
       "      <td>0.32</td>\n",
       "      <td>1.00</td>\n",
       "      <td>0.32</td>\n",
       "      <td>0.16</td>\n",
       "      <td>0.32</td>\n",
       "      <td>0.26</td>\n",
       "      <td>0.58</td>\n",
       "    </tr>\n",
       "    <tr>\n",
       "      <th>3</th>\n",
       "      <td>0.20</td>\n",
       "      <td>0.00</td>\n",
       "      <td>0.0</td>\n",
       "      <td>-0.00</td>\n",
       "      <td>-0.00</td>\n",
       "      <td>0.80</td>\n",
       "      <td>0.10</td>\n",
       "      <td>0.20</td>\n",
       "      <td>0.10</td>\n",
       "      <td>0.90</td>\n",
       "      <td>0.90</td>\n",
       "      <td>1.00</td>\n",
       "      <td>0.50</td>\n",
       "      <td>0.10</td>\n",
       "      <td>0.10</td>\n",
       "    </tr>\n",
       "  </tbody>\n",
       "</table>\n",
       "</div>"
      ],
      "text/plain": [
       "   Успех  Торговельна площа, кв. м.  Этаж  Количество касс   Тип  \\\n",
       "0   0.21                       0.04   0.0            -0.00  0.13   \n",
       "1   1.00                       0.19   0.0            -0.00  0.00   \n",
       "2   0.11                       0.11   0.0             0.05  1.00   \n",
       "3   0.20                       0.00   0.0            -0.00 -0.00   \n",
       "\n",
       "   Рейтинг в гуглі  Количество чеков  Средний чек  Населення  \\\n",
       "0             0.92             -0.00        -0.00       0.25   \n",
       "1             0.94              0.88         0.31       0.50   \n",
       "2             0.16              0.05         0.05       0.32   \n",
       "3             0.80              0.10         0.20       0.10   \n",
       "\n",
       "   Середній дохід населення  Спеціалізоване м'ясо  Спеціалізований сир  \\\n",
       "0                      1.00                  0.08                 0.04   \n",
       "1                      0.94                  0.19                 0.12   \n",
       "2                      1.00                  0.32                 0.16   \n",
       "3                      0.90                  0.90                 1.00   \n",
       "\n",
       "   Спеціалізована поб. Хімія  Супермаркет  Магазин біля дому  \n",
       "0                       0.04         0.25               0.12  \n",
       "1                       0.31         0.12               0.38  \n",
       "2                       0.32         0.26               0.58  \n",
       "3                       0.50         0.10               0.10  "
      ]
     },
     "execution_count": 129,
     "metadata": {},
     "output_type": "execute_result"
    }
   ],
   "source": [
    "# Fitting K-Means to the dataset\n",
    "km = KMeans(n_clusters = 4, init = 'k-means++', random_state = 0).fit_predict(df)\n",
    "kms = KMeans(n_clusters = 4, random_state = 0).fit(df)\n",
    "pd.DataFrame(kms.cluster_centers_, columns = df.columns).round(2)"
   ]
  },
  {
   "cell_type": "markdown",
   "id": "71eb6dbe",
   "metadata": {},
   "source": [
    "## Feature Reduction"
   ]
  },
  {
   "cell_type": "markdown",
   "id": "3f5f5122",
   "metadata": {},
   "source": [
    "Возьмем те же 3 парамета:\n",
    "- Рейтинг в гуглі\n",
    "- Количество чеков\n",
    "- Населення"
   ]
  },
  {
   "cell_type": "code",
   "execution_count": 130,
   "id": "72470da6",
   "metadata": {},
   "outputs": [],
   "source": [
    "X = df.iloc[:, [5, 6, 8]]"
   ]
  },
  {
   "cell_type": "code",
   "execution_count": 131,
   "id": "0ad839dc",
   "metadata": {},
   "outputs": [
    {
     "data": {
      "text/html": [
       "<div>\n",
       "<style scoped>\n",
       "    .dataframe tbody tr th:only-of-type {\n",
       "        vertical-align: middle;\n",
       "    }\n",
       "\n",
       "    .dataframe tbody tr th {\n",
       "        vertical-align: top;\n",
       "    }\n",
       "\n",
       "    .dataframe thead th {\n",
       "        text-align: right;\n",
       "    }\n",
       "</style>\n",
       "<table border=\"1\" class=\"dataframe\">\n",
       "  <thead>\n",
       "    <tr style=\"text-align: right;\">\n",
       "      <th></th>\n",
       "      <th>Рейтинг в гуглі</th>\n",
       "      <th>Количество чеков</th>\n",
       "      <th>Населення</th>\n",
       "    </tr>\n",
       "  </thead>\n",
       "  <tbody>\n",
       "    <tr>\n",
       "      <th>0</th>\n",
       "      <td>0.0</td>\n",
       "      <td>0.0</td>\n",
       "      <td>0.0</td>\n",
       "    </tr>\n",
       "    <tr>\n",
       "      <th>1</th>\n",
       "      <td>1.0</td>\n",
       "      <td>0.0</td>\n",
       "      <td>1.0</td>\n",
       "    </tr>\n",
       "    <tr>\n",
       "      <th>2</th>\n",
       "      <td>1.0</td>\n",
       "      <td>0.0</td>\n",
       "      <td>-0.0</td>\n",
       "    </tr>\n",
       "  </tbody>\n",
       "</table>\n",
       "</div>"
      ],
      "text/plain": [
       "   Рейтинг в гуглі  Количество чеков  Населення\n",
       "0              0.0               0.0        0.0\n",
       "1              1.0               0.0        1.0\n",
       "2              1.0               0.0       -0.0"
      ]
     },
     "execution_count": 131,
     "metadata": {},
     "output_type": "execute_result"
    }
   ],
   "source": [
    "# Fitting K-Means to the dataset\n",
    "km_3 = KMeans(n_clusters = 3, init = 'k-means++', random_state = 0).fit_predict(X)\n",
    "kms_3 = KMeans(n_clusters = 3, random_state = 0).fit(X)\n",
    "pd.DataFrame(kms_3.cluster_centers_, columns = ['Рейтинг в гуглі','Количество чеков','Населення']).round()"
   ]
  },
  {
   "cell_type": "markdown",
   "id": "b948435a",
   "metadata": {},
   "source": [
    "# Results matching"
   ]
  },
  {
   "cell_type": "code",
   "execution_count": 133,
   "id": "1d7021ef",
   "metadata": {},
   "outputs": [
    {
     "data": {
      "text/plain": [
       "0.47"
      ]
     },
     "execution_count": 133,
     "metadata": {},
     "output_type": "execute_result"
    }
   ],
   "source": [
    "# Comparing Clustering Algorithms using all features\n",
    "adjusted_rand_score(hc,km).round(3)"
   ]
  },
  {
   "cell_type": "code",
   "execution_count": 134,
   "id": "fa4127ce",
   "metadata": {},
   "outputs": [
    {
     "data": {
      "text/plain": [
       "0.454"
      ]
     },
     "execution_count": 134,
     "metadata": {},
     "output_type": "execute_result"
    }
   ],
   "source": [
    "# Comparing Clustering Algorithms using only 3 features\n",
    "adjusted_rand_score(hc_3,km_3).round(3)"
   ]
  },
  {
   "cell_type": "markdown",
   "id": "d5f19dd4",
   "metadata": {},
   "source": [
    "Кластеры незначительно схожи при использование двух разных подходов кластеризации. Что при использованиее всех данных что при выборке из 3 параметров"
   ]
  },
  {
   "cell_type": "markdown",
   "id": "fca10aca",
   "metadata": {},
   "source": [
    "# UMAP + DBSCAN"
   ]
  },
  {
   "cell_type": "markdown",
   "id": "4e5ff1c1",
   "metadata": {},
   "source": [
    "Для меня представляет интерес как кластеризуються данние при использовании подхода UMAP.\n",
    "UMAP преобразовует набор данных так что они отражают свою сушьность при этом используя меньшее количество парметров. К примеру мы можем преобразовать 14 праметров об одной компании в 2 которые будут частично отображать в себе все 14. Таким образом подавая на вход в UMAP выборку данных они преобразуються в заданное количество параметров, к примеру в 2 параметра для удобства отображения. \n",
    "\n",
    "Я хочу провести кластеризацию на всех данних и посмотреть как они размесятяться на 2д рисунке. При отображении преобразованных данных через UMAP на 2д плоскости, схожие между собой компании будут размешаться рядом. Для того чтобы провести кластеризацию на таких данных лучше всего подойдет DBSCAN. \n",
    "Используя \"Успех\" или \"не успех\" как label чтобы увидеть схожи ли успешные и не успешные компание между собой. Если схожи мы должны будем увидеть 2 ярковыраженых кластера."
   ]
  },
  {
   "cell_type": "code",
   "execution_count": 11,
   "id": "9ddf39c5",
   "metadata": {},
   "outputs": [],
   "source": [
    "from sklearn.cluster import DBSCAN\n",
    "import umap\n",
    "\n",
    "def plot_2d(ar, label_list_cluster, label_list):\n",
    "    plt.figure(figsize=(10, 7))\n",
    "    plt.subplots_adjust(bottom=0.1)\n",
    "    c = label_list_cluster\n",
    "    plt.scatter(ar[:, 0], ar[:, 1], c=c, cmap='rainbow', label='True Position')\n",
    "\n",
    "    for label, x, y in zip(label_list, ar[:, 0], ar[:, 1]):\n",
    "        plt.annotate(\n",
    "            label,\n",
    "            xy=(x, y), xytext=(-3, 3),\n",
    "            textcoords='offset points', ha='right', va='bottom')\n",
    "    plt.show()"
   ]
  },
  {
   "cell_type": "code",
   "execution_count": 12,
   "id": "6cfdf0ce",
   "metadata": {},
   "outputs": [
    {
     "data": {
      "text/html": [
       "<div>\n",
       "<style scoped>\n",
       "    .dataframe tbody tr th:only-of-type {\n",
       "        vertical-align: middle;\n",
       "    }\n",
       "\n",
       "    .dataframe tbody tr th {\n",
       "        vertical-align: top;\n",
       "    }\n",
       "\n",
       "    .dataframe thead th {\n",
       "        text-align: right;\n",
       "    }\n",
       "</style>\n",
       "<table border=\"1\" class=\"dataframe\">\n",
       "  <thead>\n",
       "    <tr style=\"text-align: right;\">\n",
       "      <th></th>\n",
       "      <th>Успех</th>\n",
       "      <th>Торговельна площа, кв. м.</th>\n",
       "      <th>Этаж</th>\n",
       "      <th>Количество касс</th>\n",
       "      <th>Тип</th>\n",
       "      <th>Рейтинг в гуглі</th>\n",
       "      <th>Количество чеков</th>\n",
       "      <th>Средний чек</th>\n",
       "      <th>Населення</th>\n",
       "      <th>Середній дохід населення</th>\n",
       "      <th>Спеціалізоване м'ясо</th>\n",
       "      <th>Спеціалізований сир</th>\n",
       "      <th>Спеціалізована поб. Хімія</th>\n",
       "      <th>Супермаркет</th>\n",
       "      <th>Магазин біля дому</th>\n",
       "    </tr>\n",
       "  </thead>\n",
       "  <tbody>\n",
       "    <tr>\n",
       "      <th>0</th>\n",
       "      <td>не успішний</td>\n",
       "      <td>9.0</td>\n",
       "      <td>1</td>\n",
       "      <td>1</td>\n",
       "      <td>старий</td>\n",
       "      <td>3.0</td>\n",
       "      <td>659.0</td>\n",
       "      <td>76.85</td>\n",
       "      <td>108.0</td>\n",
       "      <td>14910.0</td>\n",
       "      <td>1</td>\n",
       "      <td>1</td>\n",
       "      <td>0</td>\n",
       "      <td>1</td>\n",
       "      <td>1</td>\n",
       "    </tr>\n",
       "    <tr>\n",
       "      <th>1</th>\n",
       "      <td>не успішний</td>\n",
       "      <td>22.0</td>\n",
       "      <td>1</td>\n",
       "      <td>1</td>\n",
       "      <td>старий</td>\n",
       "      <td>4.1</td>\n",
       "      <td>1518.0</td>\n",
       "      <td>84.86</td>\n",
       "      <td>750.0</td>\n",
       "      <td>9030.0</td>\n",
       "      <td>0</td>\n",
       "      <td>0</td>\n",
       "      <td>0</td>\n",
       "      <td>1</td>\n",
       "      <td>1</td>\n",
       "    </tr>\n",
       "    <tr>\n",
       "      <th>2</th>\n",
       "      <td>не успішний</td>\n",
       "      <td>13.0</td>\n",
       "      <td>1</td>\n",
       "      <td>1</td>\n",
       "      <td>старий</td>\n",
       "      <td>3.0</td>\n",
       "      <td>476.0</td>\n",
       "      <td>112.02</td>\n",
       "      <td>0.0</td>\n",
       "      <td>9030.0</td>\n",
       "      <td>0</td>\n",
       "      <td>0</td>\n",
       "      <td>0</td>\n",
       "      <td>0</td>\n",
       "      <td>0</td>\n",
       "    </tr>\n",
       "    <tr>\n",
       "      <th>3</th>\n",
       "      <td>не успішний</td>\n",
       "      <td>18.0</td>\n",
       "      <td>1</td>\n",
       "      <td>1</td>\n",
       "      <td>старий</td>\n",
       "      <td>3.0</td>\n",
       "      <td>1310.0</td>\n",
       "      <td>119.80</td>\n",
       "      <td>0.0</td>\n",
       "      <td>13930.0</td>\n",
       "      <td>1</td>\n",
       "      <td>0</td>\n",
       "      <td>0</td>\n",
       "      <td>1</td>\n",
       "      <td>1</td>\n",
       "    </tr>\n",
       "    <tr>\n",
       "      <th>4</th>\n",
       "      <td>не успішний</td>\n",
       "      <td>25.0</td>\n",
       "      <td>1</td>\n",
       "      <td>1</td>\n",
       "      <td>новий</td>\n",
       "      <td>4.0</td>\n",
       "      <td>2029.0</td>\n",
       "      <td>94.88</td>\n",
       "      <td>0.0</td>\n",
       "      <td>14560.0</td>\n",
       "      <td>0</td>\n",
       "      <td>0</td>\n",
       "      <td>0</td>\n",
       "      <td>0</td>\n",
       "      <td>0</td>\n",
       "    </tr>\n",
       "  </tbody>\n",
       "</table>\n",
       "</div>"
      ],
      "text/plain": [
       "         Успех  Торговельна площа, кв. м.  Этаж  Количество касс     Тип  \\\n",
       "0  не успішний                        9.0     1                1  старий   \n",
       "1  не успішний                       22.0     1                1  старий   \n",
       "2  не успішний                       13.0     1                1  старий   \n",
       "3  не успішний                       18.0     1                1  старий   \n",
       "4  не успішний                       25.0     1                1   новий   \n",
       "\n",
       "   Рейтинг в гуглі  Количество чеков  Средний чек  Населення  \\\n",
       "0              3.0             659.0        76.85      108.0   \n",
       "1              4.1            1518.0        84.86      750.0   \n",
       "2              3.0             476.0       112.02        0.0   \n",
       "3              3.0            1310.0       119.80        0.0   \n",
       "4              4.0            2029.0        94.88        0.0   \n",
       "\n",
       "   Середній дохід населення  Спеціалізоване м'ясо  Спеціалізований сир  \\\n",
       "0                   14910.0                     1                    1   \n",
       "1                    9030.0                     0                    0   \n",
       "2                    9030.0                     0                    0   \n",
       "3                   13930.0                     1                    0   \n",
       "4                   14560.0                     0                    0   \n",
       "\n",
       "   Спеціалізована поб. Хімія  Супермаркет  Магазин біля дому  \n",
       "0                          0            1                  1  \n",
       "1                          0            1                  1  \n",
       "2                          0            0                  0  \n",
       "3                          0            1                  1  \n",
       "4                          0            0                  0  "
      ]
     },
     "execution_count": 12,
     "metadata": {},
     "output_type": "execute_result"
    }
   ],
   "source": [
    "df = pd.read_excel(\"var4.xlsx\", engine='openpyxl')\n",
    "df.head()"
   ]
  },
  {
   "cell_type": "code",
   "execution_count": 13,
   "id": "2fdf8b77",
   "metadata": {},
   "outputs": [],
   "source": [
    "df['Количество чеков'] = df['Количество чеков'].fillna(df['Количество чеков'].mean())\n",
    "df['Средний чек'] = df['Средний чек'].fillna(df['Средний чек'].mean())\n",
    "df['Населення'] = df['Населення'].fillna(df['Населення'].mean())\n",
    "df['Середній дохід населення'] = df['Середній дохід населення'].fillna(df['Середній дохід населення'].mean())"
   ]
  },
  {
   "cell_type": "code",
   "execution_count": 14,
   "id": "1b512f54",
   "metadata": {},
   "outputs": [],
   "source": [
    "df_label = df[\"Успех\"]"
   ]
  },
  {
   "cell_type": "code",
   "execution_count": 15,
   "id": "99422578",
   "metadata": {},
   "outputs": [
    {
     "data": {
      "text/html": [
       "<div>\n",
       "<style scoped>\n",
       "    .dataframe tbody tr th:only-of-type {\n",
       "        vertical-align: middle;\n",
       "    }\n",
       "\n",
       "    .dataframe tbody tr th {\n",
       "        vertical-align: top;\n",
       "    }\n",
       "\n",
       "    .dataframe thead th {\n",
       "        text-align: right;\n",
       "    }\n",
       "</style>\n",
       "<table border=\"1\" class=\"dataframe\">\n",
       "  <thead>\n",
       "    <tr style=\"text-align: right;\">\n",
       "      <th></th>\n",
       "      <th>Успех</th>\n",
       "      <th>Торговельна площа, кв. м.</th>\n",
       "      <th>Этаж</th>\n",
       "      <th>Количество касс</th>\n",
       "      <th>Тип</th>\n",
       "      <th>Рейтинг в гуглі</th>\n",
       "      <th>Количество чеков</th>\n",
       "      <th>Средний чек</th>\n",
       "      <th>Населення</th>\n",
       "      <th>Середній дохід населення</th>\n",
       "      <th>Спеціалізоване м'ясо</th>\n",
       "      <th>Спеціалізований сир</th>\n",
       "      <th>Спеціалізована поб. Хімія</th>\n",
       "      <th>Супермаркет</th>\n",
       "      <th>Магазин біля дому</th>\n",
       "    </tr>\n",
       "  </thead>\n",
       "  <tbody>\n",
       "    <tr>\n",
       "      <th>0</th>\n",
       "      <td>не успішний</td>\n",
       "      <td>9.00</td>\n",
       "      <td>1</td>\n",
       "      <td>1</td>\n",
       "      <td>1</td>\n",
       "      <td>3.0</td>\n",
       "      <td>659.0</td>\n",
       "      <td>76.85</td>\n",
       "      <td>108.0</td>\n",
       "      <td>14910.0</td>\n",
       "      <td>1</td>\n",
       "      <td>1</td>\n",
       "      <td>0</td>\n",
       "      <td>1</td>\n",
       "      <td>1</td>\n",
       "    </tr>\n",
       "    <tr>\n",
       "      <th>1</th>\n",
       "      <td>не успішний</td>\n",
       "      <td>22.00</td>\n",
       "      <td>1</td>\n",
       "      <td>1</td>\n",
       "      <td>1</td>\n",
       "      <td>4.1</td>\n",
       "      <td>1518.0</td>\n",
       "      <td>84.86</td>\n",
       "      <td>750.0</td>\n",
       "      <td>9030.0</td>\n",
       "      <td>0</td>\n",
       "      <td>0</td>\n",
       "      <td>0</td>\n",
       "      <td>1</td>\n",
       "      <td>1</td>\n",
       "    </tr>\n",
       "    <tr>\n",
       "      <th>2</th>\n",
       "      <td>не успішний</td>\n",
       "      <td>13.00</td>\n",
       "      <td>1</td>\n",
       "      <td>1</td>\n",
       "      <td>1</td>\n",
       "      <td>3.0</td>\n",
       "      <td>476.0</td>\n",
       "      <td>112.02</td>\n",
       "      <td>0.0</td>\n",
       "      <td>9030.0</td>\n",
       "      <td>0</td>\n",
       "      <td>0</td>\n",
       "      <td>0</td>\n",
       "      <td>0</td>\n",
       "      <td>0</td>\n",
       "    </tr>\n",
       "    <tr>\n",
       "      <th>3</th>\n",
       "      <td>не успішний</td>\n",
       "      <td>18.00</td>\n",
       "      <td>1</td>\n",
       "      <td>1</td>\n",
       "      <td>1</td>\n",
       "      <td>3.0</td>\n",
       "      <td>1310.0</td>\n",
       "      <td>119.80</td>\n",
       "      <td>0.0</td>\n",
       "      <td>13930.0</td>\n",
       "      <td>1</td>\n",
       "      <td>0</td>\n",
       "      <td>0</td>\n",
       "      <td>1</td>\n",
       "      <td>1</td>\n",
       "    </tr>\n",
       "    <tr>\n",
       "      <th>4</th>\n",
       "      <td>не успішний</td>\n",
       "      <td>25.00</td>\n",
       "      <td>1</td>\n",
       "      <td>1</td>\n",
       "      <td>0</td>\n",
       "      <td>4.0</td>\n",
       "      <td>2029.0</td>\n",
       "      <td>94.88</td>\n",
       "      <td>0.0</td>\n",
       "      <td>14560.0</td>\n",
       "      <td>0</td>\n",
       "      <td>0</td>\n",
       "      <td>0</td>\n",
       "      <td>0</td>\n",
       "      <td>0</td>\n",
       "    </tr>\n",
       "    <tr>\n",
       "      <th>...</th>\n",
       "      <td>...</td>\n",
       "      <td>...</td>\n",
       "      <td>...</td>\n",
       "      <td>...</td>\n",
       "      <td>...</td>\n",
       "      <td>...</td>\n",
       "      <td>...</td>\n",
       "      <td>...</td>\n",
       "      <td>...</td>\n",
       "      <td>...</td>\n",
       "      <td>...</td>\n",
       "      <td>...</td>\n",
       "      <td>...</td>\n",
       "      <td>...</td>\n",
       "      <td>...</td>\n",
       "    </tr>\n",
       "    <tr>\n",
       "      <th>64</th>\n",
       "      <td>успішний</td>\n",
       "      <td>40.78</td>\n",
       "      <td>1</td>\n",
       "      <td>2</td>\n",
       "      <td>0</td>\n",
       "      <td>4.0</td>\n",
       "      <td>6884.0</td>\n",
       "      <td>107.37</td>\n",
       "      <td>963.0</td>\n",
       "      <td>9800.0</td>\n",
       "      <td>0</td>\n",
       "      <td>0</td>\n",
       "      <td>1</td>\n",
       "      <td>0</td>\n",
       "      <td>0</td>\n",
       "    </tr>\n",
       "    <tr>\n",
       "      <th>65</th>\n",
       "      <td>успішний</td>\n",
       "      <td>21.50</td>\n",
       "      <td>1</td>\n",
       "      <td>1</td>\n",
       "      <td>0</td>\n",
       "      <td>2.3</td>\n",
       "      <td>4721.0</td>\n",
       "      <td>89.13</td>\n",
       "      <td>0.0</td>\n",
       "      <td>12600.0</td>\n",
       "      <td>1</td>\n",
       "      <td>1</td>\n",
       "      <td>1</td>\n",
       "      <td>0</td>\n",
       "      <td>0</td>\n",
       "    </tr>\n",
       "    <tr>\n",
       "      <th>66</th>\n",
       "      <td>не успішний</td>\n",
       "      <td>115.23</td>\n",
       "      <td>1</td>\n",
       "      <td>1</td>\n",
       "      <td>1</td>\n",
       "      <td>3.0</td>\n",
       "      <td>3286.0</td>\n",
       "      <td>105.62</td>\n",
       "      <td>315.0</td>\n",
       "      <td>10570.0</td>\n",
       "      <td>0</td>\n",
       "      <td>0</td>\n",
       "      <td>0</td>\n",
       "      <td>0</td>\n",
       "      <td>1</td>\n",
       "    </tr>\n",
       "    <tr>\n",
       "      <th>67</th>\n",
       "      <td>не успішний</td>\n",
       "      <td>34.80</td>\n",
       "      <td>1</td>\n",
       "      <td>2</td>\n",
       "      <td>0</td>\n",
       "      <td>4.3</td>\n",
       "      <td>3963.0</td>\n",
       "      <td>168.07</td>\n",
       "      <td>0.0</td>\n",
       "      <td>12460.0</td>\n",
       "      <td>1</td>\n",
       "      <td>1</td>\n",
       "      <td>0</td>\n",
       "      <td>0</td>\n",
       "      <td>0</td>\n",
       "    </tr>\n",
       "    <tr>\n",
       "      <th>68</th>\n",
       "      <td>успішний</td>\n",
       "      <td>22.00</td>\n",
       "      <td>1</td>\n",
       "      <td>1</td>\n",
       "      <td>0</td>\n",
       "      <td>4.9</td>\n",
       "      <td>4200.0</td>\n",
       "      <td>101.73</td>\n",
       "      <td>678.0</td>\n",
       "      <td>10430.0</td>\n",
       "      <td>1</td>\n",
       "      <td>1</td>\n",
       "      <td>0</td>\n",
       "      <td>0</td>\n",
       "      <td>0</td>\n",
       "    </tr>\n",
       "  </tbody>\n",
       "</table>\n",
       "<p>69 rows × 15 columns</p>\n",
       "</div>"
      ],
      "text/plain": [
       "          Успех  Торговельна площа, кв. м.  Этаж  Количество касс  Тип  \\\n",
       "0   не успішний                       9.00     1                1    1   \n",
       "1   не успішний                      22.00     1                1    1   \n",
       "2   не успішний                      13.00     1                1    1   \n",
       "3   не успішний                      18.00     1                1    1   \n",
       "4   не успішний                      25.00     1                1    0   \n",
       "..          ...                        ...   ...              ...  ...   \n",
       "64     успішний                      40.78     1                2    0   \n",
       "65     успішний                      21.50     1                1    0   \n",
       "66  не успішний                     115.23     1                1    1   \n",
       "67  не успішний                      34.80     1                2    0   \n",
       "68     успішний                      22.00     1                1    0   \n",
       "\n",
       "    Рейтинг в гуглі  Количество чеков  Средний чек  Населення  \\\n",
       "0               3.0             659.0        76.85      108.0   \n",
       "1               4.1            1518.0        84.86      750.0   \n",
       "2               3.0             476.0       112.02        0.0   \n",
       "3               3.0            1310.0       119.80        0.0   \n",
       "4               4.0            2029.0        94.88        0.0   \n",
       "..              ...               ...          ...        ...   \n",
       "64              4.0            6884.0       107.37      963.0   \n",
       "65              2.3            4721.0        89.13        0.0   \n",
       "66              3.0            3286.0       105.62      315.0   \n",
       "67              4.3            3963.0       168.07        0.0   \n",
       "68              4.9            4200.0       101.73      678.0   \n",
       "\n",
       "    Середній дохід населення  Спеціалізоване м'ясо  Спеціалізований сир  \\\n",
       "0                    14910.0                     1                    1   \n",
       "1                     9030.0                     0                    0   \n",
       "2                     9030.0                     0                    0   \n",
       "3                    13930.0                     1                    0   \n",
       "4                    14560.0                     0                    0   \n",
       "..                       ...                   ...                  ...   \n",
       "64                    9800.0                     0                    0   \n",
       "65                   12600.0                     1                    1   \n",
       "66                   10570.0                     0                    0   \n",
       "67                   12460.0                     1                    1   \n",
       "68                   10430.0                     1                    1   \n",
       "\n",
       "    Спеціалізована поб. Хімія  Супермаркет  Магазин біля дому  \n",
       "0                           0            1                  1  \n",
       "1                           0            1                  1  \n",
       "2                           0            0                  0  \n",
       "3                           0            1                  1  \n",
       "4                           0            0                  0  \n",
       "..                        ...          ...                ...  \n",
       "64                          1            0                  0  \n",
       "65                          1            0                  0  \n",
       "66                          0            0                  1  \n",
       "67                          0            0                  0  \n",
       "68                          0            0                  0  \n",
       "\n",
       "[69 rows x 15 columns]"
      ]
     },
     "execution_count": 15,
     "metadata": {},
     "output_type": "execute_result"
    }
   ],
   "source": [
    "type_ = {'новий':0,'старий':1, 'cтарий':1}\n",
    "df['Тип'] = df['Тип'].map(type_)\n",
    "df"
   ]
  },
  {
   "cell_type": "code",
   "execution_count": 16,
   "id": "a2d39322",
   "metadata": {},
   "outputs": [],
   "source": [
    "df = df.drop(columns=['Успех', 'Этаж'])"
   ]
  },
  {
   "cell_type": "code",
   "execution_count": 17,
   "id": "e35c5558",
   "metadata": {},
   "outputs": [
    {
     "data": {
      "text/html": [
       "<div>\n",
       "<style scoped>\n",
       "    .dataframe tbody tr th:only-of-type {\n",
       "        vertical-align: middle;\n",
       "    }\n",
       "\n",
       "    .dataframe tbody tr th {\n",
       "        vertical-align: top;\n",
       "    }\n",
       "\n",
       "    .dataframe thead th {\n",
       "        text-align: right;\n",
       "    }\n",
       "</style>\n",
       "<table border=\"1\" class=\"dataframe\">\n",
       "  <thead>\n",
       "    <tr style=\"text-align: right;\">\n",
       "      <th></th>\n",
       "      <th>Торговельна площа, кв. м.</th>\n",
       "      <th>Количество касс</th>\n",
       "      <th>Тип</th>\n",
       "      <th>Рейтинг в гуглі</th>\n",
       "      <th>Количество чеков</th>\n",
       "      <th>Средний чек</th>\n",
       "      <th>Населення</th>\n",
       "      <th>Середній дохід населення</th>\n",
       "      <th>Спеціалізоване м'ясо</th>\n",
       "      <th>Спеціалізований сир</th>\n",
       "      <th>Спеціалізована поб. Хімія</th>\n",
       "      <th>Супермаркет</th>\n",
       "      <th>Магазин біля дому</th>\n",
       "    </tr>\n",
       "  </thead>\n",
       "  <tbody>\n",
       "    <tr>\n",
       "      <th>0</th>\n",
       "      <td>0.043365</td>\n",
       "      <td>0.0</td>\n",
       "      <td>1.0</td>\n",
       "      <td>0.37500</td>\n",
       "      <td>0.019868</td>\n",
       "      <td>0.112646</td>\n",
       "      <td>0.112150</td>\n",
       "      <td>0.963801</td>\n",
       "      <td>1.0</td>\n",
       "      <td>1.0</td>\n",
       "      <td>0.0</td>\n",
       "      <td>1.0</td>\n",
       "      <td>1.0</td>\n",
       "    </tr>\n",
       "    <tr>\n",
       "      <th>1</th>\n",
       "      <td>0.156114</td>\n",
       "      <td>0.0</td>\n",
       "      <td>1.0</td>\n",
       "      <td>0.71875</td>\n",
       "      <td>0.113126</td>\n",
       "      <td>0.190564</td>\n",
       "      <td>0.778816</td>\n",
       "      <td>0.583710</td>\n",
       "      <td>0.0</td>\n",
       "      <td>0.0</td>\n",
       "      <td>0.0</td>\n",
       "      <td>1.0</td>\n",
       "      <td>1.0</td>\n",
       "    </tr>\n",
       "    <tr>\n",
       "      <th>2</th>\n",
       "      <td>0.078057</td>\n",
       "      <td>0.0</td>\n",
       "      <td>1.0</td>\n",
       "      <td>0.37500</td>\n",
       "      <td>0.000000</td>\n",
       "      <td>0.454767</td>\n",
       "      <td>0.000000</td>\n",
       "      <td>0.583710</td>\n",
       "      <td>0.0</td>\n",
       "      <td>0.0</td>\n",
       "      <td>0.0</td>\n",
       "      <td>0.0</td>\n",
       "      <td>0.0</td>\n",
       "    </tr>\n",
       "    <tr>\n",
       "      <th>3</th>\n",
       "      <td>0.121422</td>\n",
       "      <td>0.0</td>\n",
       "      <td>1.0</td>\n",
       "      <td>0.37500</td>\n",
       "      <td>0.090544</td>\n",
       "      <td>0.530447</td>\n",
       "      <td>0.000000</td>\n",
       "      <td>0.900452</td>\n",
       "      <td>1.0</td>\n",
       "      <td>0.0</td>\n",
       "      <td>0.0</td>\n",
       "      <td>1.0</td>\n",
       "      <td>1.0</td>\n",
       "    </tr>\n",
       "    <tr>\n",
       "      <th>4</th>\n",
       "      <td>0.182134</td>\n",
       "      <td>0.0</td>\n",
       "      <td>0.0</td>\n",
       "      <td>0.68750</td>\n",
       "      <td>0.168603</td>\n",
       "      <td>0.288035</td>\n",
       "      <td>0.000000</td>\n",
       "      <td>0.941176</td>\n",
       "      <td>0.0</td>\n",
       "      <td>0.0</td>\n",
       "      <td>0.0</td>\n",
       "      <td>0.0</td>\n",
       "      <td>0.0</td>\n",
       "    </tr>\n",
       "    <tr>\n",
       "      <th>...</th>\n",
       "      <td>...</td>\n",
       "      <td>...</td>\n",
       "      <td>...</td>\n",
       "      <td>...</td>\n",
       "      <td>...</td>\n",
       "      <td>...</td>\n",
       "      <td>...</td>\n",
       "      <td>...</td>\n",
       "      <td>...</td>\n",
       "      <td>...</td>\n",
       "      <td>...</td>\n",
       "      <td>...</td>\n",
       "      <td>...</td>\n",
       "    </tr>\n",
       "    <tr>\n",
       "      <th>64</th>\n",
       "      <td>0.318994</td>\n",
       "      <td>0.5</td>\n",
       "      <td>0.0</td>\n",
       "      <td>0.68750</td>\n",
       "      <td>0.695690</td>\n",
       "      <td>0.409533</td>\n",
       "      <td>1.000000</td>\n",
       "      <td>0.633484</td>\n",
       "      <td>0.0</td>\n",
       "      <td>0.0</td>\n",
       "      <td>1.0</td>\n",
       "      <td>0.0</td>\n",
       "      <td>0.0</td>\n",
       "    </tr>\n",
       "    <tr>\n",
       "      <th>65</th>\n",
       "      <td>0.151778</td>\n",
       "      <td>0.0</td>\n",
       "      <td>0.0</td>\n",
       "      <td>0.15625</td>\n",
       "      <td>0.460862</td>\n",
       "      <td>0.232101</td>\n",
       "      <td>0.000000</td>\n",
       "      <td>0.814480</td>\n",
       "      <td>1.0</td>\n",
       "      <td>1.0</td>\n",
       "      <td>1.0</td>\n",
       "      <td>0.0</td>\n",
       "      <td>0.0</td>\n",
       "    </tr>\n",
       "    <tr>\n",
       "      <th>66</th>\n",
       "      <td>0.964701</td>\n",
       "      <td>0.0</td>\n",
       "      <td>1.0</td>\n",
       "      <td>0.37500</td>\n",
       "      <td>0.305070</td>\n",
       "      <td>0.392510</td>\n",
       "      <td>0.327103</td>\n",
       "      <td>0.683258</td>\n",
       "      <td>0.0</td>\n",
       "      <td>0.0</td>\n",
       "      <td>0.0</td>\n",
       "      <td>0.0</td>\n",
       "      <td>1.0</td>\n",
       "    </tr>\n",
       "    <tr>\n",
       "      <th>67</th>\n",
       "      <td>0.267129</td>\n",
       "      <td>0.5</td>\n",
       "      <td>0.0</td>\n",
       "      <td>0.78125</td>\n",
       "      <td>0.378569</td>\n",
       "      <td>1.000000</td>\n",
       "      <td>0.000000</td>\n",
       "      <td>0.805430</td>\n",
       "      <td>1.0</td>\n",
       "      <td>1.0</td>\n",
       "      <td>0.0</td>\n",
       "      <td>0.0</td>\n",
       "      <td>0.0</td>\n",
       "    </tr>\n",
       "    <tr>\n",
       "      <th>68</th>\n",
       "      <td>0.156114</td>\n",
       "      <td>0.0</td>\n",
       "      <td>0.0</td>\n",
       "      <td>0.96875</td>\n",
       "      <td>0.404299</td>\n",
       "      <td>0.354669</td>\n",
       "      <td>0.704050</td>\n",
       "      <td>0.674208</td>\n",
       "      <td>1.0</td>\n",
       "      <td>1.0</td>\n",
       "      <td>0.0</td>\n",
       "      <td>0.0</td>\n",
       "      <td>0.0</td>\n",
       "    </tr>\n",
       "  </tbody>\n",
       "</table>\n",
       "<p>69 rows × 13 columns</p>\n",
       "</div>"
      ],
      "text/plain": [
       "    Торговельна площа, кв. м.  Количество касс  Тип  Рейтинг в гуглі  \\\n",
       "0                    0.043365              0.0  1.0          0.37500   \n",
       "1                    0.156114              0.0  1.0          0.71875   \n",
       "2                    0.078057              0.0  1.0          0.37500   \n",
       "3                    0.121422              0.0  1.0          0.37500   \n",
       "4                    0.182134              0.0  0.0          0.68750   \n",
       "..                        ...              ...  ...              ...   \n",
       "64                   0.318994              0.5  0.0          0.68750   \n",
       "65                   0.151778              0.0  0.0          0.15625   \n",
       "66                   0.964701              0.0  1.0          0.37500   \n",
       "67                   0.267129              0.5  0.0          0.78125   \n",
       "68                   0.156114              0.0  0.0          0.96875   \n",
       "\n",
       "    Количество чеков  Средний чек  Населення  Середній дохід населення  \\\n",
       "0           0.019868     0.112646   0.112150                  0.963801   \n",
       "1           0.113126     0.190564   0.778816                  0.583710   \n",
       "2           0.000000     0.454767   0.000000                  0.583710   \n",
       "3           0.090544     0.530447   0.000000                  0.900452   \n",
       "4           0.168603     0.288035   0.000000                  0.941176   \n",
       "..               ...          ...        ...                       ...   \n",
       "64          0.695690     0.409533   1.000000                  0.633484   \n",
       "65          0.460862     0.232101   0.000000                  0.814480   \n",
       "66          0.305070     0.392510   0.327103                  0.683258   \n",
       "67          0.378569     1.000000   0.000000                  0.805430   \n",
       "68          0.404299     0.354669   0.704050                  0.674208   \n",
       "\n",
       "    Спеціалізоване м'ясо  Спеціалізований сир  Спеціалізована поб. Хімія  \\\n",
       "0                    1.0                  1.0                        0.0   \n",
       "1                    0.0                  0.0                        0.0   \n",
       "2                    0.0                  0.0                        0.0   \n",
       "3                    1.0                  0.0                        0.0   \n",
       "4                    0.0                  0.0                        0.0   \n",
       "..                   ...                  ...                        ...   \n",
       "64                   0.0                  0.0                        1.0   \n",
       "65                   1.0                  1.0                        1.0   \n",
       "66                   0.0                  0.0                        0.0   \n",
       "67                   1.0                  1.0                        0.0   \n",
       "68                   1.0                  1.0                        0.0   \n",
       "\n",
       "    Супермаркет  Магазин біля дому  \n",
       "0           1.0                1.0  \n",
       "1           1.0                1.0  \n",
       "2           0.0                0.0  \n",
       "3           1.0                1.0  \n",
       "4           0.0                0.0  \n",
       "..          ...                ...  \n",
       "64          0.0                0.0  \n",
       "65          0.0                0.0  \n",
       "66          0.0                1.0  \n",
       "67          0.0                0.0  \n",
       "68          0.0                0.0  \n",
       "\n",
       "[69 rows x 13 columns]"
      ]
     },
     "execution_count": 17,
     "metadata": {},
     "output_type": "execute_result"
    }
   ],
   "source": [
    "df_n = (df-df.min())/(df.max()-df.min())\n",
    "df_n"
   ]
  },
  {
   "cell_type": "code",
   "execution_count": 18,
   "id": "f7697e56",
   "metadata": {},
   "outputs": [
    {
     "name": "stdout",
     "output_type": "stream",
     "text": [
      "[ 0  0  1  0  2  3  4  2  1  2  2  5  3  5  2  0  3  6  2  0  5  3  2  2\n",
      "  3  2  0  1  4  4  2  5  0  2  3  2  5  0  0  4  1  4  3  5  0  5  1 -1\n",
      "  1  2  4  0  6  4  2  6  3  1  2  2  1  4  2  2  2  3  0  3  3]\n"
     ]
    },
    {
     "data": {
      "image/png": "[encoded data removed]",
      "text/plain": [
       "<Figure size 720x504 with 1 Axes>"
      ]
     },
     "metadata": {
      "needs_background": "light"
     },
     "output_type": "display_data"
    }
   ],
   "source": [
    "X = df_n.to_numpy()\n",
    "reducer = umap.UMAP(n_neighbors = 15, min_dist = 0, n_epochs=50000)\n",
    "X_umap = reducer.fit_transform(X)\n",
    "clustering = DBSCAN(eps=0.5,min_samples=3).fit(X_umap)\n",
    "print(clustering.labels_)\n",
    "plot_2d(X_umap, clustering.labels_, df_label)"
   ]
  },
  {
   "cell_type": "markdown",
   "id": "f3f42f29",
   "metadata": {},
   "source": [
    "Мы получили отличный результат. Есть 2 кластера в котром находяться только успешные компнии и 5 кластеров в которых находяться только не успешные компании. Исходя из этого что есть компании которые добились успеха двумя разными подходами и то что есть 5 различных подгруп не успешных компаний, возможно каждая из этой групп не успешная по своей собственной причини которя одинаковая в этой группе."
   ]
  },
  {
   "cell_type": "markdown",
   "id": "1771dfe0",
   "metadata": {},
   "source": [
    "Так же есть одна компания которая была отнесена к выбросу. Она не схожа не на одну из тех что есть в данных и она не успешна."
   ]
  }
 ],
 "metadata": {
  "kernelspec": {
   "display_name": "Python 3",
   "language": "python",
   "name": "python3"
  },
  "language_info": {
   "codemirror_mode": {
    "name": "ipython",
    "version": 3
   },
   "file_extension": ".py",
   "mimetype": "text/x-python",
   "name": "python",
   "nbconvert_exporter": "python",
   "pygments_lexer": "ipython3",
   "version": "3.6.9"
  }
 },
 "nbformat": 4,
 "nbformat_minor": 5
}
